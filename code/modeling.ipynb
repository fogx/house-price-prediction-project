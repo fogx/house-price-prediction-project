{
 "cells": [
  {
   "cell_type": "markdown",
   "source": [
    "# Data Modeling\n",
    "lets use the cleaned up data to try and predict house prices!\n",
    "We'll build the following models:\n",
    " - An XGBoost model\n",
    " - A simple feed-forward network with Keras\n",
    " - An optimized feed-forward network with Keras and optuna"
   ],
   "metadata": {
    "collapsed": false
   }
  },
  {
   "cell_type": "code",
   "execution_count": 102,
   "outputs": [
    {
     "name": "stdout",
     "output_type": "stream",
     "text": [
      "The autoreload extension is already loaded. To reload it, use:\n",
      "  %reload_ext autoreload\n"
     ]
    }
   ],
   "source": [
    "%load_ext autoreload\n",
    "%autoreload 2\n",
    "import datetime\n",
    "import numpy as np\n",
    "import pandas as pd\n",
    "import optuna\n",
    "from keras import backend as K\n",
    "from optuna.trial import TrialState\n",
    "# mute output to declutter notebook\n",
    "from tensorflow import keras\n",
    "import wandb\n",
    "from wandb.integration.keras import WandbCallback\n",
    "import os\n",
    "\n",
    "os.environ[\"WANDB_SILENT\"] = \"True\"\n",
    "\n",
    "optuna.logging.set_verbosity(optuna.logging.WARNING)\n",
    "from optuna.visualization import plot_optimization_history, plot_slice, plot_param_importances\n",
    "from utils.utils import get_log_dir, get_project_root, create_submission"
   ],
   "metadata": {
    "collapsed": false,
    "pycharm": {
     "name": "#%%\n"
    }
   }
  },
  {
   "cell_type": "markdown",
   "source": [
    "We'll load the data from our HDF. Since the Dataset has no real validation set, we will split the training set and use 10% as our validation set."
   ],
   "metadata": {
    "collapsed": false
   }
  },
  {
   "cell_type": "code",
   "execution_count": 103,
   "metadata": {
    "collapsed": true
   },
   "outputs": [],
   "source": [
    "# load the data from the preprocessed h5 file\n",
    "with pd.HDFStore(get_project_root() / \"data/formatted/dataset_clean.h5\") as store:\n",
    "    x_train = store[\"x_train\"]\n",
    "    y_train = store[\"y_train\"]\n",
    "    x_test = store[\"x_test\"]\n",
    "\n",
    "x_val = x_train[round(len(x_train) * 0.9):]\n",
    "x_train = x_train[:round(len(x_train) * 0.9)]\n",
    "y_val = y_train[round(len(y_train) * 0.9):]\n",
    "y_train = y_train[:round(len(y_train) * 0.9)]\n",
    "\n",
    "# create log targets\n",
    "y_train_log = np.log(y_train)\n",
    "y_val_log = np.log(y_val)"
   ]
  },
  {
   "cell_type": "markdown",
   "source": [
    "## Building Models"
   ],
   "metadata": {
    "collapsed": false
   }
  },
  {
   "cell_type": "markdown",
   "source": [
    "### 1. Simple FFN Network with Keras\n",
    "\n",
    "We want to use root mean squared error as our loss function. This loss function doesn't exist in Keras, so we'll write it ourselves.\n",
    "To track our progress, we'll use weights & biases and save the best model in a log folder, so we can recover them quickly"
   ],
   "metadata": {
    "collapsed": false
   }
  },
  {
   "cell_type": "code",
   "execution_count": 104,
   "outputs": [],
   "source": [
    "def rmsle(y_pred, y_true):\n",
    "    return K.sqrt(K.mean(K.square(K.log(float(y_pred + 1)) - K.log(float(y_true + 1)))))"
   ],
   "metadata": {
    "collapsed": false,
    "pycharm": {
     "name": "#%%\n"
    }
   }
  },
  {
   "cell_type": "code",
   "execution_count": 105,
   "outputs": [],
   "source": [
    "metrics = [\"msle\", rmsle]"
   ],
   "metadata": {
    "collapsed": false,
    "pycharm": {
     "name": "#%%\n"
    }
   }
  },
  {
   "cell_type": "code",
   "execution_count": 106,
   "outputs": [],
   "source": [
    "def simple_ffn(X, Y, validation_data):\n",
    "    # build the model\n",
    "    model = keras.Sequential(\n",
    "        [\n",
    "            keras.layers.Input(shape=(len(X.columns),)),\n",
    "            keras.layers.Dense(units=1000, activation=\"relu\"),\n",
    "            keras.layers.Dense(units=1000, activation=\"relu\"),\n",
    "            keras.layers.Dense(units=100, activation=\"relu\"),\n",
    "            keras.layers.Dense(units=10, activation=\"relu\"),\n",
    "            keras.layers.Dense(units=1),\n",
    "        ])\n",
    "    logs = get_log_dir() / datetime.datetime.now().strftime(\"%d-%m-%Y--%H-%M-%S\")\n",
    "    # create folder to save models at\n",
    "    logs.mkdir(parents=True, exist_ok=True)\n",
    "    best_model_path = logs / \"best.hdf5\"\n",
    "    # save the best model, so we can compare the best, not the latest at the end.\n",
    "    callbacks = [keras.callbacks.ModelCheckpoint(\n",
    "        filepath=best_model_path.as_posix(),\n",
    "        monitor=\"val_rmsle\",\n",
    "        mode=\"min\",\n",
    "        save_best_only=True,\n",
    "        verbose=False\n",
    "    )]\n",
    "    opt = keras.optimizers.Adam()\n",
    "    model.compile(optimizer=opt,\n",
    "                  loss=rmsle,\n",
    "                  metrics=metrics)\n",
    "    wandb.init(project=\"kaggle-house-prices\", group=\"simple_ffn\", entity=\"fogx\")\n",
    "    callbacks.append(WandbCallback())\n",
    "    model.fit(X, Y,\n",
    "              epochs=100,\n",
    "              validation_data=validation_data,\n",
    "              verbose=1,\n",
    "              callbacks=callbacks)\n",
    "    wandb.finish()\n",
    "    try:\n",
    "        # load the best weights after training.\n",
    "        model.load_weights(best_model_path)\n",
    "    except FileNotFoundError:\n",
    "        # if the model didn't improve just use the original\n",
    "        pass\n",
    "    return model"
   ],
   "metadata": {
    "collapsed": false,
    "pycharm": {
     "name": "#%%\n"
    }
   }
  },
  {
   "cell_type": "code",
   "execution_count": 107,
   "outputs": [
    {
     "name": "stdout",
     "output_type": "stream",
     "text": [
      "Epoch 1/100\n",
      "42/42 [==============================] - 1s 7ms/step - loss: nan - msle: nan - rmsle: nan - val_loss: nan - val_msle: nan - val_rmsle: nan\n",
      "Epoch 2/100\n",
      "42/42 [==============================] - 0s 5ms/step - loss: nan - msle: nan - rmsle: nan - val_loss: nan - val_msle: nan - val_rmsle: nan\n",
      "Epoch 3/100\n",
      "42/42 [==============================] - 0s 4ms/step - loss: nan - msle: nan - rmsle: nan - val_loss: nan - val_msle: nan - val_rmsle: nan\n",
      "Epoch 4/100\n",
      "42/42 [==============================] - 0s 5ms/step - loss: nan - msle: nan - rmsle: nan - val_loss: nan - val_msle: nan - val_rmsle: nan\n",
      "Epoch 5/100\n",
      "42/42 [==============================] - 0s 5ms/step - loss: nan - msle: nan - rmsle: nan - val_loss: nan - val_msle: nan - val_rmsle: nan\n",
      "Epoch 6/100\n",
      "42/42 [==============================] - 0s 5ms/step - loss: nan - msle: nan - rmsle: nan - val_loss: nan - val_msle: nan - val_rmsle: nan\n",
      "Epoch 7/100\n",
      "42/42 [==============================] - 0s 4ms/step - loss: nan - msle: nan - rmsle: nan - val_loss: nan - val_msle: nan - val_rmsle: nan\n",
      "Epoch 8/100\n",
      "42/42 [==============================] - 0s 4ms/step - loss: nan - msle: nan - rmsle: nan - val_loss: nan - val_msle: nan - val_rmsle: nan\n",
      "Epoch 9/100\n",
      "42/42 [==============================] - 0s 4ms/step - loss: nan - msle: nan - rmsle: nan - val_loss: nan - val_msle: nan - val_rmsle: nan\n",
      "Epoch 10/100\n",
      "42/42 [==============================] - 0s 5ms/step - loss: nan - msle: nan - rmsle: nan - val_loss: nan - val_msle: nan - val_rmsle: nan\n",
      "Epoch 11/100\n",
      "42/42 [==============================] - 0s 4ms/step - loss: nan - msle: nan - rmsle: nan - val_loss: nan - val_msle: nan - val_rmsle: nan\n",
      "Epoch 12/100\n",
      "42/42 [==============================] - 0s 4ms/step - loss: nan - msle: nan - rmsle: nan - val_loss: nan - val_msle: nan - val_rmsle: nan\n",
      "Epoch 13/100\n",
      "42/42 [==============================] - 0s 4ms/step - loss: nan - msle: nan - rmsle: nan - val_loss: nan - val_msle: nan - val_rmsle: nan\n",
      "Epoch 14/100\n",
      "42/42 [==============================] - 0s 4ms/step - loss: nan - msle: nan - rmsle: nan - val_loss: nan - val_msle: nan - val_rmsle: nan\n",
      "Epoch 15/100\n",
      "42/42 [==============================] - 0s 4ms/step - loss: nan - msle: nan - rmsle: nan - val_loss: nan - val_msle: nan - val_rmsle: nan\n",
      "Epoch 16/100\n",
      "42/42 [==============================] - 0s 5ms/step - loss: nan - msle: nan - rmsle: nan - val_loss: nan - val_msle: nan - val_rmsle: nan\n",
      "Epoch 17/100\n",
      "42/42 [==============================] - 0s 4ms/step - loss: nan - msle: nan - rmsle: nan - val_loss: nan - val_msle: nan - val_rmsle: nan\n",
      "Epoch 18/100\n",
      "42/42 [==============================] - 0s 5ms/step - loss: nan - msle: nan - rmsle: nan - val_loss: nan - val_msle: nan - val_rmsle: nan\n",
      "Epoch 19/100\n",
      "42/42 [==============================] - 0s 4ms/step - loss: nan - msle: nan - rmsle: nan - val_loss: nan - val_msle: nan - val_rmsle: nan\n",
      "Epoch 20/100\n",
      "42/42 [==============================] - 0s 4ms/step - loss: nan - msle: nan - rmsle: nan - val_loss: nan - val_msle: nan - val_rmsle: nan\n",
      "Epoch 21/100\n",
      "42/42 [==============================] - 0s 4ms/step - loss: nan - msle: nan - rmsle: nan - val_loss: nan - val_msle: nan - val_rmsle: nan\n",
      "Epoch 22/100\n",
      "42/42 [==============================] - 0s 4ms/step - loss: nan - msle: nan - rmsle: nan - val_loss: nan - val_msle: nan - val_rmsle: nan\n",
      "Epoch 23/100\n",
      "42/42 [==============================] - 0s 4ms/step - loss: nan - msle: nan - rmsle: nan - val_loss: nan - val_msle: nan - val_rmsle: nan\n",
      "Epoch 24/100\n",
      "42/42 [==============================] - 0s 4ms/step - loss: nan - msle: nan - rmsle: nan - val_loss: nan - val_msle: nan - val_rmsle: nan\n",
      "Epoch 25/100\n",
      "42/42 [==============================] - 0s 4ms/step - loss: nan - msle: nan - rmsle: nan - val_loss: nan - val_msle: nan - val_rmsle: nan\n",
      "Epoch 26/100\n",
      "42/42 [==============================] - 0s 5ms/step - loss: nan - msle: nan - rmsle: nan - val_loss: nan - val_msle: nan - val_rmsle: nan\n",
      "Epoch 27/100\n",
      "42/42 [==============================] - 0s 4ms/step - loss: nan - msle: nan - rmsle: nan - val_loss: nan - val_msle: nan - val_rmsle: nan\n",
      "Epoch 28/100\n",
      "42/42 [==============================] - 0s 4ms/step - loss: nan - msle: nan - rmsle: nan - val_loss: nan - val_msle: nan - val_rmsle: nan\n",
      "Epoch 29/100\n",
      "42/42 [==============================] - 0s 5ms/step - loss: nan - msle: nan - rmsle: nan - val_loss: nan - val_msle: nan - val_rmsle: nan\n",
      "Epoch 30/100\n",
      "42/42 [==============================] - 0s 5ms/step - loss: nan - msle: nan - rmsle: nan - val_loss: nan - val_msle: nan - val_rmsle: nan\n",
      "Epoch 31/100\n",
      "42/42 [==============================] - 0s 5ms/step - loss: nan - msle: nan - rmsle: nan - val_loss: nan - val_msle: nan - val_rmsle: nan\n",
      "Epoch 32/100\n",
      "42/42 [==============================] - 0s 5ms/step - loss: nan - msle: nan - rmsle: nan - val_loss: nan - val_msle: nan - val_rmsle: nan\n",
      "Epoch 33/100\n",
      "42/42 [==============================] - 0s 5ms/step - loss: nan - msle: nan - rmsle: nan - val_loss: nan - val_msle: nan - val_rmsle: nan\n",
      "Epoch 34/100\n",
      "42/42 [==============================] - 0s 5ms/step - loss: nan - msle: nan - rmsle: nan - val_loss: nan - val_msle: nan - val_rmsle: nan\n",
      "Epoch 35/100\n",
      "42/42 [==============================] - 0s 5ms/step - loss: nan - msle: nan - rmsle: nan - val_loss: nan - val_msle: nan - val_rmsle: nan\n",
      "Epoch 36/100\n",
      "42/42 [==============================] - 0s 4ms/step - loss: nan - msle: nan - rmsle: nan - val_loss: nan - val_msle: nan - val_rmsle: nan\n",
      "Epoch 37/100\n",
      "42/42 [==============================] - 0s 5ms/step - loss: nan - msle: nan - rmsle: nan - val_loss: nan - val_msle: nan - val_rmsle: nan\n",
      "Epoch 38/100\n",
      "42/42 [==============================] - 0s 4ms/step - loss: nan - msle: nan - rmsle: nan - val_loss: nan - val_msle: nan - val_rmsle: nan\n",
      "Epoch 39/100\n",
      "42/42 [==============================] - 0s 5ms/step - loss: nan - msle: nan - rmsle: nan - val_loss: nan - val_msle: nan - val_rmsle: nan\n",
      "Epoch 40/100\n",
      "42/42 [==============================] - 0s 4ms/step - loss: nan - msle: nan - rmsle: nan - val_loss: nan - val_msle: nan - val_rmsle: nan\n",
      "Epoch 41/100\n",
      "42/42 [==============================] - 0s 5ms/step - loss: nan - msle: nan - rmsle: nan - val_loss: nan - val_msle: nan - val_rmsle: nan\n",
      "Epoch 42/100\n",
      "42/42 [==============================] - 0s 4ms/step - loss: nan - msle: nan - rmsle: nan - val_loss: nan - val_msle: nan - val_rmsle: nan\n",
      "Epoch 43/100\n",
      "42/42 [==============================] - 0s 4ms/step - loss: nan - msle: nan - rmsle: nan - val_loss: nan - val_msle: nan - val_rmsle: nan\n",
      "Epoch 44/100\n",
      "42/42 [==============================] - 0s 4ms/step - loss: nan - msle: nan - rmsle: nan - val_loss: nan - val_msle: nan - val_rmsle: nan\n",
      "Epoch 45/100\n",
      "42/42 [==============================] - 0s 4ms/step - loss: nan - msle: nan - rmsle: nan - val_loss: nan - val_msle: nan - val_rmsle: nan\n",
      "Epoch 46/100\n",
      "42/42 [==============================] - 0s 5ms/step - loss: nan - msle: nan - rmsle: nan - val_loss: nan - val_msle: nan - val_rmsle: nan\n",
      "Epoch 47/100\n",
      "42/42 [==============================] - 0s 4ms/step - loss: nan - msle: nan - rmsle: nan - val_loss: nan - val_msle: nan - val_rmsle: nan\n",
      "Epoch 48/100\n",
      "42/42 [==============================] - 0s 4ms/step - loss: nan - msle: nan - rmsle: nan - val_loss: nan - val_msle: nan - val_rmsle: nan\n",
      "Epoch 49/100\n",
      "42/42 [==============================] - 0s 5ms/step - loss: nan - msle: nan - rmsle: nan - val_loss: nan - val_msle: nan - val_rmsle: nan\n",
      "Epoch 50/100\n",
      "42/42 [==============================] - 0s 5ms/step - loss: nan - msle: nan - rmsle: nan - val_loss: nan - val_msle: nan - val_rmsle: nan\n",
      "Epoch 51/100\n",
      "42/42 [==============================] - 0s 5ms/step - loss: nan - msle: nan - rmsle: nan - val_loss: nan - val_msle: nan - val_rmsle: nan\n",
      "Epoch 52/100\n",
      "42/42 [==============================] - 0s 5ms/step - loss: nan - msle: nan - rmsle: nan - val_loss: nan - val_msle: nan - val_rmsle: nan\n",
      "Epoch 53/100\n",
      "42/42 [==============================] - 0s 4ms/step - loss: nan - msle: nan - rmsle: nan - val_loss: nan - val_msle: nan - val_rmsle: nan\n",
      "Epoch 54/100\n",
      "42/42 [==============================] - 0s 4ms/step - loss: nan - msle: nan - rmsle: nan - val_loss: nan - val_msle: nan - val_rmsle: nan\n",
      "Epoch 55/100\n",
      "42/42 [==============================] - 0s 4ms/step - loss: nan - msle: nan - rmsle: nan - val_loss: nan - val_msle: nan - val_rmsle: nan\n",
      "Epoch 56/100\n",
      "42/42 [==============================] - 0s 5ms/step - loss: nan - msle: nan - rmsle: nan - val_loss: nan - val_msle: nan - val_rmsle: nan\n",
      "Epoch 57/100\n",
      "42/42 [==============================] - 0s 5ms/step - loss: nan - msle: nan - rmsle: nan - val_loss: nan - val_msle: nan - val_rmsle: nan\n",
      "Epoch 58/100\n",
      "42/42 [==============================] - 0s 4ms/step - loss: nan - msle: nan - rmsle: nan - val_loss: nan - val_msle: nan - val_rmsle: nan\n",
      "Epoch 59/100\n",
      "42/42 [==============================] - 0s 4ms/step - loss: nan - msle: nan - rmsle: nan - val_loss: nan - val_msle: nan - val_rmsle: nan\n",
      "Epoch 60/100\n",
      "42/42 [==============================] - 0s 4ms/step - loss: nan - msle: nan - rmsle: nan - val_loss: nan - val_msle: nan - val_rmsle: nan\n",
      "Epoch 61/100\n",
      "42/42 [==============================] - 0s 4ms/step - loss: nan - msle: nan - rmsle: nan - val_loss: nan - val_msle: nan - val_rmsle: nan\n",
      "Epoch 62/100\n",
      "42/42 [==============================] - 0s 4ms/step - loss: nan - msle: nan - rmsle: nan - val_loss: nan - val_msle: nan - val_rmsle: nan\n",
      "Epoch 63/100\n",
      "42/42 [==============================] - 0s 4ms/step - loss: nan - msle: nan - rmsle: nan - val_loss: nan - val_msle: nan - val_rmsle: nan\n",
      "Epoch 64/100\n",
      "42/42 [==============================] - 0s 4ms/step - loss: nan - msle: nan - rmsle: nan - val_loss: nan - val_msle: nan - val_rmsle: nan\n",
      "Epoch 65/100\n",
      "42/42 [==============================] - 0s 4ms/step - loss: nan - msle: nan - rmsle: nan - val_loss: nan - val_msle: nan - val_rmsle: nan\n",
      "Epoch 66/100\n",
      "42/42 [==============================] - 0s 4ms/step - loss: nan - msle: nan - rmsle: nan - val_loss: nan - val_msle: nan - val_rmsle: nan\n",
      "Epoch 67/100\n",
      "42/42 [==============================] - 0s 4ms/step - loss: nan - msle: nan - rmsle: nan - val_loss: nan - val_msle: nan - val_rmsle: nan\n",
      "Epoch 68/100\n",
      "42/42 [==============================] - 0s 4ms/step - loss: nan - msle: nan - rmsle: nan - val_loss: nan - val_msle: nan - val_rmsle: nan\n",
      "Epoch 69/100\n",
      "42/42 [==============================] - 0s 5ms/step - loss: nan - msle: nan - rmsle: nan - val_loss: nan - val_msle: nan - val_rmsle: nan\n",
      "Epoch 70/100\n",
      "42/42 [==============================] - 0s 5ms/step - loss: nan - msle: nan - rmsle: nan - val_loss: nan - val_msle: nan - val_rmsle: nan\n",
      "Epoch 71/100\n",
      "42/42 [==============================] - 0s 5ms/step - loss: nan - msle: nan - rmsle: nan - val_loss: nan - val_msle: nan - val_rmsle: nan\n",
      "Epoch 72/100\n",
      "42/42 [==============================] - 0s 4ms/step - loss: nan - msle: nan - rmsle: nan - val_loss: nan - val_msle: nan - val_rmsle: nan\n",
      "Epoch 73/100\n",
      "42/42 [==============================] - 0s 5ms/step - loss: nan - msle: nan - rmsle: nan - val_loss: nan - val_msle: nan - val_rmsle: nan\n",
      "Epoch 74/100\n",
      "42/42 [==============================] - 0s 4ms/step - loss: nan - msle: nan - rmsle: nan - val_loss: nan - val_msle: nan - val_rmsle: nan\n",
      "Epoch 75/100\n",
      "42/42 [==============================] - 0s 4ms/step - loss: nan - msle: nan - rmsle: nan - val_loss: nan - val_msle: nan - val_rmsle: nan\n",
      "Epoch 76/100\n",
      "42/42 [==============================] - 0s 4ms/step - loss: nan - msle: nan - rmsle: nan - val_loss: nan - val_msle: nan - val_rmsle: nan\n",
      "Epoch 77/100\n",
      "42/42 [==============================] - 0s 4ms/step - loss: nan - msle: nan - rmsle: nan - val_loss: nan - val_msle: nan - val_rmsle: nan\n",
      "Epoch 78/100\n",
      "42/42 [==============================] - 0s 5ms/step - loss: nan - msle: nan - rmsle: nan - val_loss: nan - val_msle: nan - val_rmsle: nan\n",
      "Epoch 79/100\n",
      "42/42 [==============================] - 0s 4ms/step - loss: nan - msle: nan - rmsle: nan - val_loss: nan - val_msle: nan - val_rmsle: nan\n",
      "Epoch 80/100\n",
      "42/42 [==============================] - 0s 4ms/step - loss: nan - msle: nan - rmsle: nan - val_loss: nan - val_msle: nan - val_rmsle: nan\n",
      "Epoch 81/100\n",
      "42/42 [==============================] - 0s 4ms/step - loss: nan - msle: nan - rmsle: nan - val_loss: nan - val_msle: nan - val_rmsle: nan\n",
      "Epoch 82/100\n",
      "42/42 [==============================] - 0s 5ms/step - loss: nan - msle: nan - rmsle: nan - val_loss: nan - val_msle: nan - val_rmsle: nan\n",
      "Epoch 83/100\n",
      "42/42 [==============================] - 0s 4ms/step - loss: nan - msle: nan - rmsle: nan - val_loss: nan - val_msle: nan - val_rmsle: nan\n",
      "Epoch 84/100\n",
      "42/42 [==============================] - 0s 4ms/step - loss: nan - msle: nan - rmsle: nan - val_loss: nan - val_msle: nan - val_rmsle: nan\n",
      "Epoch 85/100\n",
      "42/42 [==============================] - 0s 5ms/step - loss: nan - msle: nan - rmsle: nan - val_loss: nan - val_msle: nan - val_rmsle: nan\n",
      "Epoch 86/100\n",
      "42/42 [==============================] - 0s 4ms/step - loss: nan - msle: nan - rmsle: nan - val_loss: nan - val_msle: nan - val_rmsle: nan\n",
      "Epoch 87/100\n",
      "42/42 [==============================] - 0s 4ms/step - loss: nan - msle: nan - rmsle: nan - val_loss: nan - val_msle: nan - val_rmsle: nan\n",
      "Epoch 88/100\n",
      "42/42 [==============================] - 0s 4ms/step - loss: nan - msle: nan - rmsle: nan - val_loss: nan - val_msle: nan - val_rmsle: nan\n",
      "Epoch 89/100\n",
      "42/42 [==============================] - 0s 4ms/step - loss: nan - msle: nan - rmsle: nan - val_loss: nan - val_msle: nan - val_rmsle: nan\n",
      "Epoch 90/100\n",
      "42/42 [==============================] - 0s 4ms/step - loss: nan - msle: nan - rmsle: nan - val_loss: nan - val_msle: nan - val_rmsle: nan\n",
      "Epoch 91/100\n",
      "42/42 [==============================] - 0s 4ms/step - loss: nan - msle: nan - rmsle: nan - val_loss: nan - val_msle: nan - val_rmsle: nan\n",
      "Epoch 92/100\n",
      "42/42 [==============================] - 0s 4ms/step - loss: nan - msle: nan - rmsle: nan - val_loss: nan - val_msle: nan - val_rmsle: nan\n",
      "Epoch 93/100\n",
      "42/42 [==============================] - 0s 4ms/step - loss: nan - msle: nan - rmsle: nan - val_loss: nan - val_msle: nan - val_rmsle: nan\n",
      "Epoch 94/100\n",
      "42/42 [==============================] - 0s 5ms/step - loss: nan - msle: nan - rmsle: nan - val_loss: nan - val_msle: nan - val_rmsle: nan\n",
      "Epoch 95/100\n",
      "42/42 [==============================] - 0s 5ms/step - loss: nan - msle: nan - rmsle: nan - val_loss: nan - val_msle: nan - val_rmsle: nan\n",
      "Epoch 96/100\n",
      "42/42 [==============================] - 0s 5ms/step - loss: nan - msle: nan - rmsle: nan - val_loss: nan - val_msle: nan - val_rmsle: nan\n",
      "Epoch 97/100\n",
      "42/42 [==============================] - 0s 4ms/step - loss: nan - msle: nan - rmsle: nan - val_loss: nan - val_msle: nan - val_rmsle: nan\n",
      "Epoch 98/100\n",
      "42/42 [==============================] - 0s 5ms/step - loss: nan - msle: nan - rmsle: nan - val_loss: nan - val_msle: nan - val_rmsle: nan\n",
      "Epoch 99/100\n",
      "42/42 [==============================] - 0s 5ms/step - loss: nan - msle: nan - rmsle: nan - val_loss: nan - val_msle: nan - val_rmsle: nan\n",
      "Epoch 100/100\n",
      "42/42 [==============================] - 0s 5ms/step - loss: nan - msle: nan - rmsle: nan - val_loss: nan - val_msle: nan - val_rmsle: nan\n"
     ]
    }
   ],
   "source": [
    "# call our method to fit the model\n",
    "simple_ffn = simple_ffn(x_train, y_train_log, (x_val, y_val_log))"
   ],
   "metadata": {
    "collapsed": false,
    "pycharm": {
     "name": "#%%\n"
    }
   }
  },
  {
   "cell_type": "markdown",
   "source": [
    "### 2. Modelling with optuna\n",
    "Optuna tries to find optimal values by training surrogate models, and searching for good parameters. This means we don’t have to train the entire model, but only a small version of it. It also tries to optimize its search by “following” good leads and dropping/pruning bad ones."
   ],
   "metadata": {
    "collapsed": false
   }
  },
  {
   "cell_type": "code",
   "execution_count": 108,
   "outputs": [],
   "source": [
    "sampler = optuna.samplers.TPESampler(seed=10)  # Make the sampler behave in a deterministic way.\n",
    "study = optuna.create_study(study_name=\"stock_tpe_optuna\", direction=\"minimize\", sampler=sampler,\n",
    "                            # pruner=optuna.pruners.NopPruner() # add the NopPruner to disable pruning\n",
    "                            )"
   ],
   "metadata": {
    "collapsed": false,
    "pycharm": {
     "name": "#%%\n"
    }
   }
  },
  {
   "cell_type": "code",
   "execution_count": 109,
   "outputs": [],
   "source": [
    "from optuna.integration import TFKerasPruningCallback\n",
    "from keras.callbacks import ModelCheckpoint\n",
    "\n",
    "\n",
    "def optuna_tpe(trial):\n",
    "    n_layers = trial.suggest_int(\"n_layers\", 1, 10)\n",
    "    layers = []\n",
    "    # create input and regularization layers\n",
    "    input_layer = keras.layers.Input(len(x_train.columns))\n",
    "    reg_layer = keras.layers.Normalization()\n",
    "    reg_layer.adapt(x_train)\n",
    "    model_list = [input_layer]\n",
    "    # generate deep layers\n",
    "    for i in range(n_layers):\n",
    "        model_list.append(keras.layers.Dense(\n",
    "            units=trial.suggest_int(f\"layer_{i}\", 16, 1024),\n",
    "            activation=trial.suggest_categorical(f\"activation_{i}\", [\"relu\", \"tanh\", \"linear\"]),\n",
    "        ))\n",
    "        model_list.append(keras.layers.Dropout(trial.suggest_float(f\"dropout_l{i}\", 0, 0.5)))\n",
    "    # add output layer without activation function to get a regression value\n",
    "    model_list.append(keras.layers.Dense(1))\n",
    "    model = keras.Sequential(model_list)\n",
    "    optimizer = create_optimizer(trial)\n",
    "    model.compile(\n",
    "        loss=\"mse\",\n",
    "        optimizer=optimizer,\n",
    "        metrics=metrics,\n",
    "    )\n",
    "    # define logs_dir for the best models and check that it exists\n",
    "    logs_dir = get_log_dir() / f'{trial.number}--{datetime.datetime.now().strftime(\"%d-%m-%H-%M\")}'\n",
    "    logs_dir.mkdir(parents=True, exist_ok=True)\n",
    "    callbacks = [\n",
    "        ModelCheckpoint(filepath=(logs_dir / \"best.hdf5\").as_posix(), verbose=False),\n",
    "        TFKerasPruningCallback(trial, f\"val_{metrics[0]}\")]\n",
    "    # train the model\n",
    "    model.fit(\n",
    "        x_train,\n",
    "        y_train_log,\n",
    "        validation_data=(x_val, y_val_log),\n",
    "        epochs=trial.suggest_int(\"epochs\", 1, 500),\n",
    "        batch_size=trial.suggest_int(\"batch_size\", 16, 500),\n",
    "        callbacks=callbacks,\n",
    "        verbose=False\n",
    "    )\n",
    "    # evaluate on validation set and return just the mse. since our loss function is also MSE we can just return that\n",
    "    model_eval = model.evaluate(x_val, y_val)\n",
    "    return model_eval[0]\n",
    "\n",
    "\n",
    "def create_optimizer(trial):\n",
    "    # We optimize the choice of optimizers as well as their parameters.\n",
    "    optimizer_name = trial.suggest_categorical(\"optimizer\", [\"Adam\", \"RMSprop\"])\n",
    "    # optimizer_name = trial.suggest_categorical(\"optimizer\", [\"Adam\", \"RMSprop\", \"SGD\"])\n",
    "    if optimizer_name == \"Adam\":\n",
    "        adam_lr = trial.suggest_float(\"adam_lr\", 1e-5, 1e-1, log=True)\n",
    "        return keras.optimizers.Adam(learning_rate=adam_lr)\n",
    "    elif optimizer_name == \"RMSprop\":\n",
    "        rms_lr = trial.suggest_float(\"rmsprop_lr\", 1e-5, 1e-1, log=True)\n",
    "        rms_decay = trial.suggest_float(\"rmsprop_decay\", 0.85, 0.99)\n",
    "        rms_momentum = trial.suggest_float(\"rmsprop_momentum\", 1e-5, 1e-1, log=True)\n",
    "        return keras.optimizers.RMSprop(learning_rate=rms_lr, momentum=rms_momentum, decay=rms_decay)\n",
    "    else:\n",
    "        sgd_lr = trial.suggest_float(\"sgd_lr\", 1e-5, 1e-1, log=True)\n",
    "        sgd_momentum = trial.suggest_float(\"sgd_momentum\", 1e-5, 1e-1, log=True)\n",
    "        return keras.optimizers.SGD(learning_rate=sgd_lr, momentum=sgd_momentum)"
   ],
   "metadata": {
    "collapsed": false,
    "pycharm": {
     "name": "#%%\n"
    }
   }
  },
  {
   "cell_type": "code",
   "execution_count": 110,
   "outputs": [
    {
     "name": "stdout",
     "output_type": "stream",
     "text": [
      "5/5 [==============================] - 0s 2ms/step - loss: 36093362176.0000 - msle: 93.8679 - rmsle: 9.6881\n",
      "5/5 [==============================] - 0s 1ms/step - loss: 36159287296.0000 - msle: 143.9076 - rmsle: nan\n",
      "5/5 [==============================] - 0s 2ms/step - loss: 36094758912.0000 - msle: 103.8265 - rmsle: 10.1892\n",
      "5/5 [==============================] - 0s 1ms/step - loss: 36092338176.0000 - msle: 89.1065 - rmsle: 9.4395\n",
      "5/5 [==============================] - 0s 2ms/step - loss: 36093616128.0000 - msle: 95.3390 - rmsle: 9.7638\n",
      "5/5 [==============================] - 0s 1000us/step - loss: 36092248064.0000 - msle: 88.6713 - rmsle: 9.4162\n",
      "5/5 [==============================] - 0s 2ms/step - loss: 36094111744.0000 - msle: 98.5055 - rmsle: 9.9246\n",
      "5/5 [==============================] - 0s 750us/step - loss: 36092477440.0000 - msle: 89.7218 - rmsle: 9.4731\n",
      "5/5 [==============================] - 0s 2ms/step - loss: 36092358656.0000 - msle: 89.1843 - rmsle: 9.4436\n",
      "5/5 [==============================] - 0s 1ms/step - loss: 36092321792.0000 - msle: 89.0046 - rmsle: 9.4337\n",
      "5/5 [==============================] - 0s 2ms/step - loss: 36092231680.0000 - msle: 88.6888 - rmsle: 9.4177\n",
      "5/5 [==============================] - 0s 1000us/step - loss: 36092317696.0000 - msle: 88.9488 - rmsle: 9.4308\n",
      "5/5 [==============================] - 0s 1000us/step - loss: 36092211200.0000 - msle: 88.5566 - rmsle: 9.4100\n",
      "5/5 [==============================] - 0s 1ms/step - loss: 36092399616.0000 - msle: 89.2949 - rmsle: 9.4491\n",
      "5/5 [==============================] - 0s 1ms/step - loss: 36092346368.0000 - msle: 89.0818 - rmsle: 9.4379\n",
      "5/5 [==============================] - 0s 2ms/step - loss: 36092489728.0000 - msle: 89.6697 - rmsle: 9.4689\n",
      "5/5 [==============================] - 0s 2ms/step - loss: 36092313600.0000 - msle: 89.0303 - rmsle: 9.4350\n",
      "5/5 [==============================] - 0s 2ms/step - loss: 36092346368.0000 - msle: 89.0684 - rmsle: 9.4372\n",
      "5/5 [==============================] - 0s 1000us/step - loss: 36093136896.0000 - msle: 92.6884 - rmsle: 9.6270\n",
      "5/5 [==============================] - 0s 2ms/step - loss: 36092354560.0000 - msle: 89.1153 - rmsle: 9.4396\n",
      "5/5 [==============================] - 0s 2ms/step - loss: 36092346368.0000 - msle: 89.0843 - rmsle: 9.4380\n",
      "5/5 [==============================] - 0s 2ms/step - loss: 36092305408.0000 - msle: 88.9196 - rmsle: 9.4293\n",
      "5/5 [==============================] - 0s 1ms/step - loss: 36092362752.0000 - msle: 89.1499 - rmsle: 9.4415\n",
      "5/5 [==============================] - 0s 1ms/step - loss: 36092354560.0000 - msle: 89.1075 - rmsle: 9.4392\n",
      "5/5 [==============================] - 0s 3ms/step - loss: 36092477440.0000 - msle: 89.6319 - rmsle: 9.4670\n",
      "5/5 [==============================] - 0s 2ms/step - loss: 36092387328.0000 - msle: 89.2692 - rmsle: 9.4478\n"
     ]
    }
   ],
   "source": [
    "start = datetime.datetime.now()\n",
    "study.optimize(optuna_tpe,\n",
    "               n_trials=100,  # run 100 trials\n",
    "               # timeout=1800 # run for 30 minutes\n",
    "               )\n",
    "end = datetime.datetime.now()"
   ],
   "metadata": {
    "collapsed": false,
    "pycharm": {
     "name": "#%%\n"
    }
   }
  },
  {
   "cell_type": "markdown",
   "source": [
    "First we can look at how our trials improved over time."
   ],
   "metadata": {
    "collapsed": false
   }
  },
  {
   "cell_type": "code",
   "execution_count": 111,
   "outputs": [
    {
     "data": {
      "application/vnd.plotly.v1+json": {
       "data": [
        {
         "mode": "markers",
         "name": "Objective Value",
         "x": [
          0,
          1,
          2,
          3,
          4,
          8,
          13,
          19,
          24,
          30,
          33,
          40,
          41,
          42,
          45,
          48,
          54,
          56,
          58,
          71,
          72,
          76,
          78,
          91,
          92,
          95
         ],
         "y": [
          3.6093362176E10,
          3.6159287296E10,
          3.6094758912E10,
          3.6092338176E10,
          3.6093616128E10,
          3.6092248064E10,
          3.6094111744E10,
          3.609247744E10,
          3.6092358656E10,
          3.6092321792E10,
          3.609223168E10,
          3.6092317696E10,
          3.60922112E10,
          3.6092399616E10,
          3.6092346368E10,
          3.6092489728E10,
          3.60923136E10,
          3.6092346368E10,
          3.6093136896E10,
          3.609235456E10,
          3.6092346368E10,
          3.6092305408E10,
          3.6092362752E10,
          3.609235456E10,
          3.609247744E10,
          3.6092387328E10
         ],
         "type": "scatter"
        },
        {
         "name": "Best Value",
         "x": [
          0,
          1,
          2,
          3,
          4,
          8,
          13,
          19,
          24,
          30,
          33,
          40,
          41,
          42,
          45,
          48,
          54,
          56,
          58,
          71,
          72,
          76,
          78,
          91,
          92,
          95
         ],
         "y": [
          3.6093362176E10,
          3.6093362176E10,
          3.6093362176E10,
          3.6092338176E10,
          3.6092338176E10,
          3.6092248064E10,
          3.6092248064E10,
          3.6092248064E10,
          3.6092248064E10,
          3.6092248064E10,
          3.609223168E10,
          3.609223168E10,
          3.60922112E10,
          3.60922112E10,
          3.60922112E10,
          3.60922112E10,
          3.60922112E10,
          3.60922112E10,
          3.60922112E10,
          3.60922112E10,
          3.60922112E10,
          3.60922112E10,
          3.60922112E10,
          3.60922112E10,
          3.60922112E10,
          3.60922112E10
         ],
         "type": "scatter"
        }
       ],
       "layout": {
        "title": {
         "text": "Optimization History Plot"
        },
        "xaxis": {
         "title": {
          "text": "#Trials"
         }
        },
        "yaxis": {
         "title": {
          "text": "Objective Value"
         }
        },
        "template": {
         "data": {
          "bar": [
           {
            "error_x": {
             "color": "#2a3f5f"
            },
            "error_y": {
             "color": "#2a3f5f"
            },
            "marker": {
             "line": {
              "color": "#E5ECF6",
              "width": 0.5
             },
             "pattern": {
              "fillmode": "overlay",
              "size": 10,
              "solidity": 0.2
             }
            },
            "type": "bar"
           }
          ],
          "barpolar": [
           {
            "marker": {
             "line": {
              "color": "#E5ECF6",
              "width": 0.5
             },
             "pattern": {
              "fillmode": "overlay",
              "size": 10,
              "solidity": 0.2
             }
            },
            "type": "barpolar"
           }
          ],
          "carpet": [
           {
            "aaxis": {
             "endlinecolor": "#2a3f5f",
             "gridcolor": "white",
             "linecolor": "white",
             "minorgridcolor": "white",
             "startlinecolor": "#2a3f5f"
            },
            "baxis": {
             "endlinecolor": "#2a3f5f",
             "gridcolor": "white",
             "linecolor": "white",
             "minorgridcolor": "white",
             "startlinecolor": "#2a3f5f"
            },
            "type": "carpet"
           }
          ],
          "choropleth": [
           {
            "colorbar": {
             "outlinewidth": 0,
             "ticks": ""
            },
            "type": "choropleth"
           }
          ],
          "contour": [
           {
            "colorbar": {
             "outlinewidth": 0,
             "ticks": ""
            },
            "colorscale": [
             [
              0.0,
              "#0d0887"
             ],
             [
              0.1111111111111111,
              "#46039f"
             ],
             [
              0.2222222222222222,
              "#7201a8"
             ],
             [
              0.3333333333333333,
              "#9c179e"
             ],
             [
              0.4444444444444444,
              "#bd3786"
             ],
             [
              0.5555555555555556,
              "#d8576b"
             ],
             [
              0.6666666666666666,
              "#ed7953"
             ],
             [
              0.7777777777777778,
              "#fb9f3a"
             ],
             [
              0.8888888888888888,
              "#fdca26"
             ],
             [
              1.0,
              "#f0f921"
             ]
            ],
            "type": "contour"
           }
          ],
          "contourcarpet": [
           {
            "colorbar": {
             "outlinewidth": 0,
             "ticks": ""
            },
            "type": "contourcarpet"
           }
          ],
          "heatmap": [
           {
            "colorbar": {
             "outlinewidth": 0,
             "ticks": ""
            },
            "colorscale": [
             [
              0.0,
              "#0d0887"
             ],
             [
              0.1111111111111111,
              "#46039f"
             ],
             [
              0.2222222222222222,
              "#7201a8"
             ],
             [
              0.3333333333333333,
              "#9c179e"
             ],
             [
              0.4444444444444444,
              "#bd3786"
             ],
             [
              0.5555555555555556,
              "#d8576b"
             ],
             [
              0.6666666666666666,
              "#ed7953"
             ],
             [
              0.7777777777777778,
              "#fb9f3a"
             ],
             [
              0.8888888888888888,
              "#fdca26"
             ],
             [
              1.0,
              "#f0f921"
             ]
            ],
            "type": "heatmap"
           }
          ],
          "heatmapgl": [
           {
            "colorbar": {
             "outlinewidth": 0,
             "ticks": ""
            },
            "colorscale": [
             [
              0.0,
              "#0d0887"
             ],
             [
              0.1111111111111111,
              "#46039f"
             ],
             [
              0.2222222222222222,
              "#7201a8"
             ],
             [
              0.3333333333333333,
              "#9c179e"
             ],
             [
              0.4444444444444444,
              "#bd3786"
             ],
             [
              0.5555555555555556,
              "#d8576b"
             ],
             [
              0.6666666666666666,
              "#ed7953"
             ],
             [
              0.7777777777777778,
              "#fb9f3a"
             ],
             [
              0.8888888888888888,
              "#fdca26"
             ],
             [
              1.0,
              "#f0f921"
             ]
            ],
            "type": "heatmapgl"
           }
          ],
          "histogram": [
           {
            "marker": {
             "pattern": {
              "fillmode": "overlay",
              "size": 10,
              "solidity": 0.2
             }
            },
            "type": "histogram"
           }
          ],
          "histogram2d": [
           {
            "colorbar": {
             "outlinewidth": 0,
             "ticks": ""
            },
            "colorscale": [
             [
              0.0,
              "#0d0887"
             ],
             [
              0.1111111111111111,
              "#46039f"
             ],
             [
              0.2222222222222222,
              "#7201a8"
             ],
             [
              0.3333333333333333,
              "#9c179e"
             ],
             [
              0.4444444444444444,
              "#bd3786"
             ],
             [
              0.5555555555555556,
              "#d8576b"
             ],
             [
              0.6666666666666666,
              "#ed7953"
             ],
             [
              0.7777777777777778,
              "#fb9f3a"
             ],
             [
              0.8888888888888888,
              "#fdca26"
             ],
             [
              1.0,
              "#f0f921"
             ]
            ],
            "type": "histogram2d"
           }
          ],
          "histogram2dcontour": [
           {
            "colorbar": {
             "outlinewidth": 0,
             "ticks": ""
            },
            "colorscale": [
             [
              0.0,
              "#0d0887"
             ],
             [
              0.1111111111111111,
              "#46039f"
             ],
             [
              0.2222222222222222,
              "#7201a8"
             ],
             [
              0.3333333333333333,
              "#9c179e"
             ],
             [
              0.4444444444444444,
              "#bd3786"
             ],
             [
              0.5555555555555556,
              "#d8576b"
             ],
             [
              0.6666666666666666,
              "#ed7953"
             ],
             [
              0.7777777777777778,
              "#fb9f3a"
             ],
             [
              0.8888888888888888,
              "#fdca26"
             ],
             [
              1.0,
              "#f0f921"
             ]
            ],
            "type": "histogram2dcontour"
           }
          ],
          "mesh3d": [
           {
            "colorbar": {
             "outlinewidth": 0,
             "ticks": ""
            },
            "type": "mesh3d"
           }
          ],
          "parcoords": [
           {
            "line": {
             "colorbar": {
              "outlinewidth": 0,
              "ticks": ""
             }
            },
            "type": "parcoords"
           }
          ],
          "pie": [
           {
            "automargin": true,
            "type": "pie"
           }
          ],
          "scatter": [
           {
            "marker": {
             "colorbar": {
              "outlinewidth": 0,
              "ticks": ""
             }
            },
            "type": "scatter"
           }
          ],
          "scatter3d": [
           {
            "line": {
             "colorbar": {
              "outlinewidth": 0,
              "ticks": ""
             }
            },
            "marker": {
             "colorbar": {
              "outlinewidth": 0,
              "ticks": ""
             }
            },
            "type": "scatter3d"
           }
          ],
          "scattercarpet": [
           {
            "marker": {
             "colorbar": {
              "outlinewidth": 0,
              "ticks": ""
             }
            },
            "type": "scattercarpet"
           }
          ],
          "scattergeo": [
           {
            "marker": {
             "colorbar": {
              "outlinewidth": 0,
              "ticks": ""
             }
            },
            "type": "scattergeo"
           }
          ],
          "scattergl": [
           {
            "marker": {
             "colorbar": {
              "outlinewidth": 0,
              "ticks": ""
             }
            },
            "type": "scattergl"
           }
          ],
          "scattermapbox": [
           {
            "marker": {
             "colorbar": {
              "outlinewidth": 0,
              "ticks": ""
             }
            },
            "type": "scattermapbox"
           }
          ],
          "scatterpolar": [
           {
            "marker": {
             "colorbar": {
              "outlinewidth": 0,
              "ticks": ""
             }
            },
            "type": "scatterpolar"
           }
          ],
          "scatterpolargl": [
           {
            "marker": {
             "colorbar": {
              "outlinewidth": 0,
              "ticks": ""
             }
            },
            "type": "scatterpolargl"
           }
          ],
          "scatterternary": [
           {
            "marker": {
             "colorbar": {
              "outlinewidth": 0,
              "ticks": ""
             }
            },
            "type": "scatterternary"
           }
          ],
          "surface": [
           {
            "colorbar": {
             "outlinewidth": 0,
             "ticks": ""
            },
            "colorscale": [
             [
              0.0,
              "#0d0887"
             ],
             [
              0.1111111111111111,
              "#46039f"
             ],
             [
              0.2222222222222222,
              "#7201a8"
             ],
             [
              0.3333333333333333,
              "#9c179e"
             ],
             [
              0.4444444444444444,
              "#bd3786"
             ],
             [
              0.5555555555555556,
              "#d8576b"
             ],
             [
              0.6666666666666666,
              "#ed7953"
             ],
             [
              0.7777777777777778,
              "#fb9f3a"
             ],
             [
              0.8888888888888888,
              "#fdca26"
             ],
             [
              1.0,
              "#f0f921"
             ]
            ],
            "type": "surface"
           }
          ],
          "table": [
           {
            "cells": {
             "fill": {
              "color": "#EBF0F8"
             },
             "line": {
              "color": "white"
             }
            },
            "header": {
             "fill": {
              "color": "#C8D4E3"
             },
             "line": {
              "color": "white"
             }
            },
            "type": "table"
           }
          ]
         },
         "layout": {
          "annotationdefaults": {
           "arrowcolor": "#2a3f5f",
           "arrowhead": 0,
           "arrowwidth": 1
          },
          "autotypenumbers": "strict",
          "coloraxis": {
           "colorbar": {
            "outlinewidth": 0,
            "ticks": ""
           }
          },
          "colorscale": {
           "diverging": [
            [
             0,
             "#8e0152"
            ],
            [
             0.1,
             "#c51b7d"
            ],
            [
             0.2,
             "#de77ae"
            ],
            [
             0.3,
             "#f1b6da"
            ],
            [
             0.4,
             "#fde0ef"
            ],
            [
             0.5,
             "#f7f7f7"
            ],
            [
             0.6,
             "#e6f5d0"
            ],
            [
             0.7,
             "#b8e186"
            ],
            [
             0.8,
             "#7fbc41"
            ],
            [
             0.9,
             "#4d9221"
            ],
            [
             1,
             "#276419"
            ]
           ],
           "sequential": [
            [
             0.0,
             "#0d0887"
            ],
            [
             0.1111111111111111,
             "#46039f"
            ],
            [
             0.2222222222222222,
             "#7201a8"
            ],
            [
             0.3333333333333333,
             "#9c179e"
            ],
            [
             0.4444444444444444,
             "#bd3786"
            ],
            [
             0.5555555555555556,
             "#d8576b"
            ],
            [
             0.6666666666666666,
             "#ed7953"
            ],
            [
             0.7777777777777778,
             "#fb9f3a"
            ],
            [
             0.8888888888888888,
             "#fdca26"
            ],
            [
             1.0,
             "#f0f921"
            ]
           ],
           "sequentialminus": [
            [
             0.0,
             "#0d0887"
            ],
            [
             0.1111111111111111,
             "#46039f"
            ],
            [
             0.2222222222222222,
             "#7201a8"
            ],
            [
             0.3333333333333333,
             "#9c179e"
            ],
            [
             0.4444444444444444,
             "#bd3786"
            ],
            [
             0.5555555555555556,
             "#d8576b"
            ],
            [
             0.6666666666666666,
             "#ed7953"
            ],
            [
             0.7777777777777778,
             "#fb9f3a"
            ],
            [
             0.8888888888888888,
             "#fdca26"
            ],
            [
             1.0,
             "#f0f921"
            ]
           ]
          },
          "colorway": [
           "#636efa",
           "#EF553B",
           "#00cc96",
           "#ab63fa",
           "#FFA15A",
           "#19d3f3",
           "#FF6692",
           "#B6E880",
           "#FF97FF",
           "#FECB52"
          ],
          "font": {
           "color": "#2a3f5f"
          },
          "geo": {
           "bgcolor": "white",
           "lakecolor": "white",
           "landcolor": "#E5ECF6",
           "showlakes": true,
           "showland": true,
           "subunitcolor": "white"
          },
          "hoverlabel": {
           "align": "left"
          },
          "hovermode": "closest",
          "mapbox": {
           "style": "light"
          },
          "paper_bgcolor": "white",
          "plot_bgcolor": "#E5ECF6",
          "polar": {
           "angularaxis": {
            "gridcolor": "white",
            "linecolor": "white",
            "ticks": ""
           },
           "bgcolor": "#E5ECF6",
           "radialaxis": {
            "gridcolor": "white",
            "linecolor": "white",
            "ticks": ""
           }
          },
          "scene": {
           "xaxis": {
            "backgroundcolor": "#E5ECF6",
            "gridcolor": "white",
            "gridwidth": 2,
            "linecolor": "white",
            "showbackground": true,
            "ticks": "",
            "zerolinecolor": "white"
           },
           "yaxis": {
            "backgroundcolor": "#E5ECF6",
            "gridcolor": "white",
            "gridwidth": 2,
            "linecolor": "white",
            "showbackground": true,
            "ticks": "",
            "zerolinecolor": "white"
           },
           "zaxis": {
            "backgroundcolor": "#E5ECF6",
            "gridcolor": "white",
            "gridwidth": 2,
            "linecolor": "white",
            "showbackground": true,
            "ticks": "",
            "zerolinecolor": "white"
           }
          },
          "shapedefaults": {
           "line": {
            "color": "#2a3f5f"
           }
          },
          "ternary": {
           "aaxis": {
            "gridcolor": "white",
            "linecolor": "white",
            "ticks": ""
           },
           "baxis": {
            "gridcolor": "white",
            "linecolor": "white",
            "ticks": ""
           },
           "bgcolor": "#E5ECF6",
           "caxis": {
            "gridcolor": "white",
            "linecolor": "white",
            "ticks": ""
           }
          },
          "title": {
           "x": 0.05
          },
          "xaxis": {
           "automargin": true,
           "gridcolor": "white",
           "linecolor": "white",
           "ticks": "",
           "title": {
            "standoff": 15
           },
           "zerolinecolor": "white",
           "zerolinewidth": 2
          },
          "yaxis": {
           "automargin": true,
           "gridcolor": "white",
           "linecolor": "white",
           "ticks": "",
           "title": {
            "standoff": 15
           },
           "zerolinecolor": "white",
           "zerolinewidth": 2
          }
         }
        }
       },
       "config": {
        "plotlyServerURL": "https://plot.ly"
       }
      },
      "text/html": "<div>                            <div id=\"24a95f3d-f9fe-4ae5-9862-bff1f8aa5e70\" class=\"plotly-graph-div\" style=\"height:525px; width:100%;\"></div>            <script type=\"text/javascript\">                require([\"plotly\"], function(Plotly) {                    window.PLOTLYENV=window.PLOTLYENV || {};                                    if (document.getElementById(\"24a95f3d-f9fe-4ae5-9862-bff1f8aa5e70\")) {                    Plotly.newPlot(                        \"24a95f3d-f9fe-4ae5-9862-bff1f8aa5e70\",                        [{\"mode\":\"markers\",\"name\":\"Objective Value\",\"x\":[0,1,2,3,4,8,13,19,24,30,33,40,41,42,45,48,54,56,58,71,72,76,78,91,92,95],\"y\":[36093362176.0,36159287296.0,36094758912.0,36092338176.0,36093616128.0,36092248064.0,36094111744.0,36092477440.0,36092358656.0,36092321792.0,36092231680.0,36092317696.0,36092211200.0,36092399616.0,36092346368.0,36092489728.0,36092313600.0,36092346368.0,36093136896.0,36092354560.0,36092346368.0,36092305408.0,36092362752.0,36092354560.0,36092477440.0,36092387328.0],\"type\":\"scatter\"},{\"name\":\"Best Value\",\"x\":[0,1,2,3,4,8,13,19,24,30,33,40,41,42,45,48,54,56,58,71,72,76,78,91,92,95],\"y\":[36093362176.0,36093362176.0,36093362176.0,36092338176.0,36092338176.0,36092248064.0,36092248064.0,36092248064.0,36092248064.0,36092248064.0,36092231680.0,36092231680.0,36092211200.0,36092211200.0,36092211200.0,36092211200.0,36092211200.0,36092211200.0,36092211200.0,36092211200.0,36092211200.0,36092211200.0,36092211200.0,36092211200.0,36092211200.0,36092211200.0],\"type\":\"scatter\"}],                        {\"title\":{\"text\":\"Optimization History Plot\"},\"xaxis\":{\"title\":{\"text\":\"#Trials\"}},\"yaxis\":{\"title\":{\"text\":\"Objective Value\"}},\"template\":{\"data\":{\"bar\":[{\"error_x\":{\"color\":\"#2a3f5f\"},\"error_y\":{\"color\":\"#2a3f5f\"},\"marker\":{\"line\":{\"color\":\"#E5ECF6\",\"width\":0.5},\"pattern\":{\"fillmode\":\"overlay\",\"size\":10,\"solidity\":0.2}},\"type\":\"bar\"}],\"barpolar\":[{\"marker\":{\"line\":{\"color\":\"#E5ECF6\",\"width\":0.5},\"pattern\":{\"fillmode\":\"overlay\",\"size\":10,\"solidity\":0.2}},\"type\":\"barpolar\"}],\"carpet\":[{\"aaxis\":{\"endlinecolor\":\"#2a3f5f\",\"gridcolor\":\"white\",\"linecolor\":\"white\",\"minorgridcolor\":\"white\",\"startlinecolor\":\"#2a3f5f\"},\"baxis\":{\"endlinecolor\":\"#2a3f5f\",\"gridcolor\":\"white\",\"linecolor\":\"white\",\"minorgridcolor\":\"white\",\"startlinecolor\":\"#2a3f5f\"},\"type\":\"carpet\"}],\"choropleth\":[{\"colorbar\":{\"outlinewidth\":0,\"ticks\":\"\"},\"type\":\"choropleth\"}],\"contour\":[{\"colorbar\":{\"outlinewidth\":0,\"ticks\":\"\"},\"colorscale\":[[0.0,\"#0d0887\"],[0.1111111111111111,\"#46039f\"],[0.2222222222222222,\"#7201a8\"],[0.3333333333333333,\"#9c179e\"],[0.4444444444444444,\"#bd3786\"],[0.5555555555555556,\"#d8576b\"],[0.6666666666666666,\"#ed7953\"],[0.7777777777777778,\"#fb9f3a\"],[0.8888888888888888,\"#fdca26\"],[1.0,\"#f0f921\"]],\"type\":\"contour\"}],\"contourcarpet\":[{\"colorbar\":{\"outlinewidth\":0,\"ticks\":\"\"},\"type\":\"contourcarpet\"}],\"heatmap\":[{\"colorbar\":{\"outlinewidth\":0,\"ticks\":\"\"},\"colorscale\":[[0.0,\"#0d0887\"],[0.1111111111111111,\"#46039f\"],[0.2222222222222222,\"#7201a8\"],[0.3333333333333333,\"#9c179e\"],[0.4444444444444444,\"#bd3786\"],[0.5555555555555556,\"#d8576b\"],[0.6666666666666666,\"#ed7953\"],[0.7777777777777778,\"#fb9f3a\"],[0.8888888888888888,\"#fdca26\"],[1.0,\"#f0f921\"]],\"type\":\"heatmap\"}],\"heatmapgl\":[{\"colorbar\":{\"outlinewidth\":0,\"ticks\":\"\"},\"colorscale\":[[0.0,\"#0d0887\"],[0.1111111111111111,\"#46039f\"],[0.2222222222222222,\"#7201a8\"],[0.3333333333333333,\"#9c179e\"],[0.4444444444444444,\"#bd3786\"],[0.5555555555555556,\"#d8576b\"],[0.6666666666666666,\"#ed7953\"],[0.7777777777777778,\"#fb9f3a\"],[0.8888888888888888,\"#fdca26\"],[1.0,\"#f0f921\"]],\"type\":\"heatmapgl\"}],\"histogram\":[{\"marker\":{\"pattern\":{\"fillmode\":\"overlay\",\"size\":10,\"solidity\":0.2}},\"type\":\"histogram\"}],\"histogram2d\":[{\"colorbar\":{\"outlinewidth\":0,\"ticks\":\"\"},\"colorscale\":[[0.0,\"#0d0887\"],[0.1111111111111111,\"#46039f\"],[0.2222222222222222,\"#7201a8\"],[0.3333333333333333,\"#9c179e\"],[0.4444444444444444,\"#bd3786\"],[0.5555555555555556,\"#d8576b\"],[0.6666666666666666,\"#ed7953\"],[0.7777777777777778,\"#fb9f3a\"],[0.8888888888888888,\"#fdca26\"],[1.0,\"#f0f921\"]],\"type\":\"histogram2d\"}],\"histogram2dcontour\":[{\"colorbar\":{\"outlinewidth\":0,\"ticks\":\"\"},\"colorscale\":[[0.0,\"#0d0887\"],[0.1111111111111111,\"#46039f\"],[0.2222222222222222,\"#7201a8\"],[0.3333333333333333,\"#9c179e\"],[0.4444444444444444,\"#bd3786\"],[0.5555555555555556,\"#d8576b\"],[0.6666666666666666,\"#ed7953\"],[0.7777777777777778,\"#fb9f3a\"],[0.8888888888888888,\"#fdca26\"],[1.0,\"#f0f921\"]],\"type\":\"histogram2dcontour\"}],\"mesh3d\":[{\"colorbar\":{\"outlinewidth\":0,\"ticks\":\"\"},\"type\":\"mesh3d\"}],\"parcoords\":[{\"line\":{\"colorbar\":{\"outlinewidth\":0,\"ticks\":\"\"}},\"type\":\"parcoords\"}],\"pie\":[{\"automargin\":true,\"type\":\"pie\"}],\"scatter\":[{\"marker\":{\"colorbar\":{\"outlinewidth\":0,\"ticks\":\"\"}},\"type\":\"scatter\"}],\"scatter3d\":[{\"line\":{\"colorbar\":{\"outlinewidth\":0,\"ticks\":\"\"}},\"marker\":{\"colorbar\":{\"outlinewidth\":0,\"ticks\":\"\"}},\"type\":\"scatter3d\"}],\"scattercarpet\":[{\"marker\":{\"colorbar\":{\"outlinewidth\":0,\"ticks\":\"\"}},\"type\":\"scattercarpet\"}],\"scattergeo\":[{\"marker\":{\"colorbar\":{\"outlinewidth\":0,\"ticks\":\"\"}},\"type\":\"scattergeo\"}],\"scattergl\":[{\"marker\":{\"colorbar\":{\"outlinewidth\":0,\"ticks\":\"\"}},\"type\":\"scattergl\"}],\"scattermapbox\":[{\"marker\":{\"colorbar\":{\"outlinewidth\":0,\"ticks\":\"\"}},\"type\":\"scattermapbox\"}],\"scatterpolar\":[{\"marker\":{\"colorbar\":{\"outlinewidth\":0,\"ticks\":\"\"}},\"type\":\"scatterpolar\"}],\"scatterpolargl\":[{\"marker\":{\"colorbar\":{\"outlinewidth\":0,\"ticks\":\"\"}},\"type\":\"scatterpolargl\"}],\"scatterternary\":[{\"marker\":{\"colorbar\":{\"outlinewidth\":0,\"ticks\":\"\"}},\"type\":\"scatterternary\"}],\"surface\":[{\"colorbar\":{\"outlinewidth\":0,\"ticks\":\"\"},\"colorscale\":[[0.0,\"#0d0887\"],[0.1111111111111111,\"#46039f\"],[0.2222222222222222,\"#7201a8\"],[0.3333333333333333,\"#9c179e\"],[0.4444444444444444,\"#bd3786\"],[0.5555555555555556,\"#d8576b\"],[0.6666666666666666,\"#ed7953\"],[0.7777777777777778,\"#fb9f3a\"],[0.8888888888888888,\"#fdca26\"],[1.0,\"#f0f921\"]],\"type\":\"surface\"}],\"table\":[{\"cells\":{\"fill\":{\"color\":\"#EBF0F8\"},\"line\":{\"color\":\"white\"}},\"header\":{\"fill\":{\"color\":\"#C8D4E3\"},\"line\":{\"color\":\"white\"}},\"type\":\"table\"}]},\"layout\":{\"annotationdefaults\":{\"arrowcolor\":\"#2a3f5f\",\"arrowhead\":0,\"arrowwidth\":1},\"autotypenumbers\":\"strict\",\"coloraxis\":{\"colorbar\":{\"outlinewidth\":0,\"ticks\":\"\"}},\"colorscale\":{\"diverging\":[[0,\"#8e0152\"],[0.1,\"#c51b7d\"],[0.2,\"#de77ae\"],[0.3,\"#f1b6da\"],[0.4,\"#fde0ef\"],[0.5,\"#f7f7f7\"],[0.6,\"#e6f5d0\"],[0.7,\"#b8e186\"],[0.8,\"#7fbc41\"],[0.9,\"#4d9221\"],[1,\"#276419\"]],\"sequential\":[[0.0,\"#0d0887\"],[0.1111111111111111,\"#46039f\"],[0.2222222222222222,\"#7201a8\"],[0.3333333333333333,\"#9c179e\"],[0.4444444444444444,\"#bd3786\"],[0.5555555555555556,\"#d8576b\"],[0.6666666666666666,\"#ed7953\"],[0.7777777777777778,\"#fb9f3a\"],[0.8888888888888888,\"#fdca26\"],[1.0,\"#f0f921\"]],\"sequentialminus\":[[0.0,\"#0d0887\"],[0.1111111111111111,\"#46039f\"],[0.2222222222222222,\"#7201a8\"],[0.3333333333333333,\"#9c179e\"],[0.4444444444444444,\"#bd3786\"],[0.5555555555555556,\"#d8576b\"],[0.6666666666666666,\"#ed7953\"],[0.7777777777777778,\"#fb9f3a\"],[0.8888888888888888,\"#fdca26\"],[1.0,\"#f0f921\"]]},\"colorway\":[\"#636efa\",\"#EF553B\",\"#00cc96\",\"#ab63fa\",\"#FFA15A\",\"#19d3f3\",\"#FF6692\",\"#B6E880\",\"#FF97FF\",\"#FECB52\"],\"font\":{\"color\":\"#2a3f5f\"},\"geo\":{\"bgcolor\":\"white\",\"lakecolor\":\"white\",\"landcolor\":\"#E5ECF6\",\"showlakes\":true,\"showland\":true,\"subunitcolor\":\"white\"},\"hoverlabel\":{\"align\":\"left\"},\"hovermode\":\"closest\",\"mapbox\":{\"style\":\"light\"},\"paper_bgcolor\":\"white\",\"plot_bgcolor\":\"#E5ECF6\",\"polar\":{\"angularaxis\":{\"gridcolor\":\"white\",\"linecolor\":\"white\",\"ticks\":\"\"},\"bgcolor\":\"#E5ECF6\",\"radialaxis\":{\"gridcolor\":\"white\",\"linecolor\":\"white\",\"ticks\":\"\"}},\"scene\":{\"xaxis\":{\"backgroundcolor\":\"#E5ECF6\",\"gridcolor\":\"white\",\"gridwidth\":2,\"linecolor\":\"white\",\"showbackground\":true,\"ticks\":\"\",\"zerolinecolor\":\"white\"},\"yaxis\":{\"backgroundcolor\":\"#E5ECF6\",\"gridcolor\":\"white\",\"gridwidth\":2,\"linecolor\":\"white\",\"showbackground\":true,\"ticks\":\"\",\"zerolinecolor\":\"white\"},\"zaxis\":{\"backgroundcolor\":\"#E5ECF6\",\"gridcolor\":\"white\",\"gridwidth\":2,\"linecolor\":\"white\",\"showbackground\":true,\"ticks\":\"\",\"zerolinecolor\":\"white\"}},\"shapedefaults\":{\"line\":{\"color\":\"#2a3f5f\"}},\"ternary\":{\"aaxis\":{\"gridcolor\":\"white\",\"linecolor\":\"white\",\"ticks\":\"\"},\"baxis\":{\"gridcolor\":\"white\",\"linecolor\":\"white\",\"ticks\":\"\"},\"bgcolor\":\"#E5ECF6\",\"caxis\":{\"gridcolor\":\"white\",\"linecolor\":\"white\",\"ticks\":\"\"}},\"title\":{\"x\":0.05},\"xaxis\":{\"automargin\":true,\"gridcolor\":\"white\",\"linecolor\":\"white\",\"ticks\":\"\",\"title\":{\"standoff\":15},\"zerolinecolor\":\"white\",\"zerolinewidth\":2},\"yaxis\":{\"automargin\":true,\"gridcolor\":\"white\",\"linecolor\":\"white\",\"ticks\":\"\",\"title\":{\"standoff\":15},\"zerolinecolor\":\"white\",\"zerolinewidth\":2}}}},                        {\"responsive\": true}                    ).then(function(){\n                            \nvar gd = document.getElementById('24a95f3d-f9fe-4ae5-9862-bff1f8aa5e70');\nvar x = new MutationObserver(function (mutations, observer) {{\n        var display = window.getComputedStyle(gd).display;\n        if (!display || display === 'none') {{\n            console.log([gd, 'removed!']);\n            Plotly.purge(gd);\n            observer.disconnect();\n        }}\n}});\n\n// Listen for the removal of the full notebook cells\nvar notebookContainer = gd.closest('#notebook-container');\nif (notebookContainer) {{\n    x.observe(notebookContainer, {childList: true});\n}}\n\n// Listen for the clearing of the current output cell\nvar outputEl = gd.closest('.output');\nif (outputEl) {{\n    x.observe(outputEl, {childList: true});\n}}\n\n                        })                };                });            </script>        </div>"
     },
     "metadata": {},
     "output_type": "display_data"
    }
   ],
   "source": [
    "plot_optimization_history(study)"
   ],
   "metadata": {
    "collapsed": false,
    "pycharm": {
     "name": "#%%\n"
    }
   }
  },
  {
   "cell_type": "markdown",
   "source": [
    "We can also look at which features had the most impact and what the algorithm preferred when training"
   ],
   "metadata": {
    "collapsed": false
   }
  },
  {
   "cell_type": "code",
   "execution_count": 112,
   "outputs": [
    {
     "data": {
      "application/vnd.plotly.v1+json": {
       "data": [
        {
         "cliponaxis": false,
         "hovertemplate": [
          "dropout_l0 (UniformDistribution): 0.001895649507804679<extra></extra>",
          "activation_1 (CategoricalDistribution): 0.002397348369041149<extra></extra>",
          "epochs (IntUniformDistribution): 0.012240284077028976<extra></extra>",
          "optimizer (CategoricalDistribution): 0.014593502196411505<extra></extra>",
          "batch_size (IntUniformDistribution): 0.020000787635874567<extra></extra>",
          "activation_0 (CategoricalDistribution): 0.03522584080802115<extra></extra>",
          "n_layers (IntUniformDistribution): 0.03776323442445941<extra></extra>",
          "layer_1 (IntUniformDistribution): 0.07707752781698961<extra></extra>",
          "layer_0 (IntUniformDistribution): 0.08723873365037936<extra></extra>",
          "dropout_l1 (UniformDistribution): 0.7115670915139897<extra></extra>"
         ],
         "marker": {
          "color": "rgb(66,146,198)"
         },
         "orientation": "h",
         "text": [
          "0.001895649507804679",
          "0.002397348369041149",
          "0.012240284077028976",
          "0.014593502196411505",
          "0.020000787635874567",
          "0.03522584080802115",
          "0.03776323442445941",
          "0.07707752781698961",
          "0.08723873365037936",
          "0.7115670915139897"
         ],
         "textposition": "outside",
         "texttemplate": "%{text:.2f}",
         "x": [
          0.001895649507804679,
          0.002397348369041149,
          0.012240284077028976,
          0.014593502196411505,
          0.020000787635874567,
          0.03522584080802115,
          0.03776323442445941,
          0.07707752781698961,
          0.08723873365037936,
          0.7115670915139897
         ],
         "y": [
          "dropout_l0",
          "activation_1",
          "epochs",
          "optimizer",
          "batch_size",
          "activation_0",
          "n_layers",
          "layer_1",
          "layer_0",
          "dropout_l1"
         ],
         "type": "bar"
        }
       ],
       "layout": {
        "showlegend": false,
        "title": {
         "text": "Hyperparameter Importances"
        },
        "xaxis": {
         "title": {
          "text": "Importance for Objective Value"
         }
        },
        "yaxis": {
         "title": {
          "text": "Hyperparameter"
         }
        },
        "template": {
         "data": {
          "bar": [
           {
            "error_x": {
             "color": "#2a3f5f"
            },
            "error_y": {
             "color": "#2a3f5f"
            },
            "marker": {
             "line": {
              "color": "#E5ECF6",
              "width": 0.5
             },
             "pattern": {
              "fillmode": "overlay",
              "size": 10,
              "solidity": 0.2
             }
            },
            "type": "bar"
           }
          ],
          "barpolar": [
           {
            "marker": {
             "line": {
              "color": "#E5ECF6",
              "width": 0.5
             },
             "pattern": {
              "fillmode": "overlay",
              "size": 10,
              "solidity": 0.2
             }
            },
            "type": "barpolar"
           }
          ],
          "carpet": [
           {
            "aaxis": {
             "endlinecolor": "#2a3f5f",
             "gridcolor": "white",
             "linecolor": "white",
             "minorgridcolor": "white",
             "startlinecolor": "#2a3f5f"
            },
            "baxis": {
             "endlinecolor": "#2a3f5f",
             "gridcolor": "white",
             "linecolor": "white",
             "minorgridcolor": "white",
             "startlinecolor": "#2a3f5f"
            },
            "type": "carpet"
           }
          ],
          "choropleth": [
           {
            "colorbar": {
             "outlinewidth": 0,
             "ticks": ""
            },
            "type": "choropleth"
           }
          ],
          "contour": [
           {
            "colorbar": {
             "outlinewidth": 0,
             "ticks": ""
            },
            "colorscale": [
             [
              0.0,
              "#0d0887"
             ],
             [
              0.1111111111111111,
              "#46039f"
             ],
             [
              0.2222222222222222,
              "#7201a8"
             ],
             [
              0.3333333333333333,
              "#9c179e"
             ],
             [
              0.4444444444444444,
              "#bd3786"
             ],
             [
              0.5555555555555556,
              "#d8576b"
             ],
             [
              0.6666666666666666,
              "#ed7953"
             ],
             [
              0.7777777777777778,
              "#fb9f3a"
             ],
             [
              0.8888888888888888,
              "#fdca26"
             ],
             [
              1.0,
              "#f0f921"
             ]
            ],
            "type": "contour"
           }
          ],
          "contourcarpet": [
           {
            "colorbar": {
             "outlinewidth": 0,
             "ticks": ""
            },
            "type": "contourcarpet"
           }
          ],
          "heatmap": [
           {
            "colorbar": {
             "outlinewidth": 0,
             "ticks": ""
            },
            "colorscale": [
             [
              0.0,
              "#0d0887"
             ],
             [
              0.1111111111111111,
              "#46039f"
             ],
             [
              0.2222222222222222,
              "#7201a8"
             ],
             [
              0.3333333333333333,
              "#9c179e"
             ],
             [
              0.4444444444444444,
              "#bd3786"
             ],
             [
              0.5555555555555556,
              "#d8576b"
             ],
             [
              0.6666666666666666,
              "#ed7953"
             ],
             [
              0.7777777777777778,
              "#fb9f3a"
             ],
             [
              0.8888888888888888,
              "#fdca26"
             ],
             [
              1.0,
              "#f0f921"
             ]
            ],
            "type": "heatmap"
           }
          ],
          "heatmapgl": [
           {
            "colorbar": {
             "outlinewidth": 0,
             "ticks": ""
            },
            "colorscale": [
             [
              0.0,
              "#0d0887"
             ],
             [
              0.1111111111111111,
              "#46039f"
             ],
             [
              0.2222222222222222,
              "#7201a8"
             ],
             [
              0.3333333333333333,
              "#9c179e"
             ],
             [
              0.4444444444444444,
              "#bd3786"
             ],
             [
              0.5555555555555556,
              "#d8576b"
             ],
             [
              0.6666666666666666,
              "#ed7953"
             ],
             [
              0.7777777777777778,
              "#fb9f3a"
             ],
             [
              0.8888888888888888,
              "#fdca26"
             ],
             [
              1.0,
              "#f0f921"
             ]
            ],
            "type": "heatmapgl"
           }
          ],
          "histogram": [
           {
            "marker": {
             "pattern": {
              "fillmode": "overlay",
              "size": 10,
              "solidity": 0.2
             }
            },
            "type": "histogram"
           }
          ],
          "histogram2d": [
           {
            "colorbar": {
             "outlinewidth": 0,
             "ticks": ""
            },
            "colorscale": [
             [
              0.0,
              "#0d0887"
             ],
             [
              0.1111111111111111,
              "#46039f"
             ],
             [
              0.2222222222222222,
              "#7201a8"
             ],
             [
              0.3333333333333333,
              "#9c179e"
             ],
             [
              0.4444444444444444,
              "#bd3786"
             ],
             [
              0.5555555555555556,
              "#d8576b"
             ],
             [
              0.6666666666666666,
              "#ed7953"
             ],
             [
              0.7777777777777778,
              "#fb9f3a"
             ],
             [
              0.8888888888888888,
              "#fdca26"
             ],
             [
              1.0,
              "#f0f921"
             ]
            ],
            "type": "histogram2d"
           }
          ],
          "histogram2dcontour": [
           {
            "colorbar": {
             "outlinewidth": 0,
             "ticks": ""
            },
            "colorscale": [
             [
              0.0,
              "#0d0887"
             ],
             [
              0.1111111111111111,
              "#46039f"
             ],
             [
              0.2222222222222222,
              "#7201a8"
             ],
             [
              0.3333333333333333,
              "#9c179e"
             ],
             [
              0.4444444444444444,
              "#bd3786"
             ],
             [
              0.5555555555555556,
              "#d8576b"
             ],
             [
              0.6666666666666666,
              "#ed7953"
             ],
             [
              0.7777777777777778,
              "#fb9f3a"
             ],
             [
              0.8888888888888888,
              "#fdca26"
             ],
             [
              1.0,
              "#f0f921"
             ]
            ],
            "type": "histogram2dcontour"
           }
          ],
          "mesh3d": [
           {
            "colorbar": {
             "outlinewidth": 0,
             "ticks": ""
            },
            "type": "mesh3d"
           }
          ],
          "parcoords": [
           {
            "line": {
             "colorbar": {
              "outlinewidth": 0,
              "ticks": ""
             }
            },
            "type": "parcoords"
           }
          ],
          "pie": [
           {
            "automargin": true,
            "type": "pie"
           }
          ],
          "scatter": [
           {
            "marker": {
             "colorbar": {
              "outlinewidth": 0,
              "ticks": ""
             }
            },
            "type": "scatter"
           }
          ],
          "scatter3d": [
           {
            "line": {
             "colorbar": {
              "outlinewidth": 0,
              "ticks": ""
             }
            },
            "marker": {
             "colorbar": {
              "outlinewidth": 0,
              "ticks": ""
             }
            },
            "type": "scatter3d"
           }
          ],
          "scattercarpet": [
           {
            "marker": {
             "colorbar": {
              "outlinewidth": 0,
              "ticks": ""
             }
            },
            "type": "scattercarpet"
           }
          ],
          "scattergeo": [
           {
            "marker": {
             "colorbar": {
              "outlinewidth": 0,
              "ticks": ""
             }
            },
            "type": "scattergeo"
           }
          ],
          "scattergl": [
           {
            "marker": {
             "colorbar": {
              "outlinewidth": 0,
              "ticks": ""
             }
            },
            "type": "scattergl"
           }
          ],
          "scattermapbox": [
           {
            "marker": {
             "colorbar": {
              "outlinewidth": 0,
              "ticks": ""
             }
            },
            "type": "scattermapbox"
           }
          ],
          "scatterpolar": [
           {
            "marker": {
             "colorbar": {
              "outlinewidth": 0,
              "ticks": ""
             }
            },
            "type": "scatterpolar"
           }
          ],
          "scatterpolargl": [
           {
            "marker": {
             "colorbar": {
              "outlinewidth": 0,
              "ticks": ""
             }
            },
            "type": "scatterpolargl"
           }
          ],
          "scatterternary": [
           {
            "marker": {
             "colorbar": {
              "outlinewidth": 0,
              "ticks": ""
             }
            },
            "type": "scatterternary"
           }
          ],
          "surface": [
           {
            "colorbar": {
             "outlinewidth": 0,
             "ticks": ""
            },
            "colorscale": [
             [
              0.0,
              "#0d0887"
             ],
             [
              0.1111111111111111,
              "#46039f"
             ],
             [
              0.2222222222222222,
              "#7201a8"
             ],
             [
              0.3333333333333333,
              "#9c179e"
             ],
             [
              0.4444444444444444,
              "#bd3786"
             ],
             [
              0.5555555555555556,
              "#d8576b"
             ],
             [
              0.6666666666666666,
              "#ed7953"
             ],
             [
              0.7777777777777778,
              "#fb9f3a"
             ],
             [
              0.8888888888888888,
              "#fdca26"
             ],
             [
              1.0,
              "#f0f921"
             ]
            ],
            "type": "surface"
           }
          ],
          "table": [
           {
            "cells": {
             "fill": {
              "color": "#EBF0F8"
             },
             "line": {
              "color": "white"
             }
            },
            "header": {
             "fill": {
              "color": "#C8D4E3"
             },
             "line": {
              "color": "white"
             }
            },
            "type": "table"
           }
          ]
         },
         "layout": {
          "annotationdefaults": {
           "arrowcolor": "#2a3f5f",
           "arrowhead": 0,
           "arrowwidth": 1
          },
          "autotypenumbers": "strict",
          "coloraxis": {
           "colorbar": {
            "outlinewidth": 0,
            "ticks": ""
           }
          },
          "colorscale": {
           "diverging": [
            [
             0,
             "#8e0152"
            ],
            [
             0.1,
             "#c51b7d"
            ],
            [
             0.2,
             "#de77ae"
            ],
            [
             0.3,
             "#f1b6da"
            ],
            [
             0.4,
             "#fde0ef"
            ],
            [
             0.5,
             "#f7f7f7"
            ],
            [
             0.6,
             "#e6f5d0"
            ],
            [
             0.7,
             "#b8e186"
            ],
            [
             0.8,
             "#7fbc41"
            ],
            [
             0.9,
             "#4d9221"
            ],
            [
             1,
             "#276419"
            ]
           ],
           "sequential": [
            [
             0.0,
             "#0d0887"
            ],
            [
             0.1111111111111111,
             "#46039f"
            ],
            [
             0.2222222222222222,
             "#7201a8"
            ],
            [
             0.3333333333333333,
             "#9c179e"
            ],
            [
             0.4444444444444444,
             "#bd3786"
            ],
            [
             0.5555555555555556,
             "#d8576b"
            ],
            [
             0.6666666666666666,
             "#ed7953"
            ],
            [
             0.7777777777777778,
             "#fb9f3a"
            ],
            [
             0.8888888888888888,
             "#fdca26"
            ],
            [
             1.0,
             "#f0f921"
            ]
           ],
           "sequentialminus": [
            [
             0.0,
             "#0d0887"
            ],
            [
             0.1111111111111111,
             "#46039f"
            ],
            [
             0.2222222222222222,
             "#7201a8"
            ],
            [
             0.3333333333333333,
             "#9c179e"
            ],
            [
             0.4444444444444444,
             "#bd3786"
            ],
            [
             0.5555555555555556,
             "#d8576b"
            ],
            [
             0.6666666666666666,
             "#ed7953"
            ],
            [
             0.7777777777777778,
             "#fb9f3a"
            ],
            [
             0.8888888888888888,
             "#fdca26"
            ],
            [
             1.0,
             "#f0f921"
            ]
           ]
          },
          "colorway": [
           "#636efa",
           "#EF553B",
           "#00cc96",
           "#ab63fa",
           "#FFA15A",
           "#19d3f3",
           "#FF6692",
           "#B6E880",
           "#FF97FF",
           "#FECB52"
          ],
          "font": {
           "color": "#2a3f5f"
          },
          "geo": {
           "bgcolor": "white",
           "lakecolor": "white",
           "landcolor": "#E5ECF6",
           "showlakes": true,
           "showland": true,
           "subunitcolor": "white"
          },
          "hoverlabel": {
           "align": "left"
          },
          "hovermode": "closest",
          "mapbox": {
           "style": "light"
          },
          "paper_bgcolor": "white",
          "plot_bgcolor": "#E5ECF6",
          "polar": {
           "angularaxis": {
            "gridcolor": "white",
            "linecolor": "white",
            "ticks": ""
           },
           "bgcolor": "#E5ECF6",
           "radialaxis": {
            "gridcolor": "white",
            "linecolor": "white",
            "ticks": ""
           }
          },
          "scene": {
           "xaxis": {
            "backgroundcolor": "#E5ECF6",
            "gridcolor": "white",
            "gridwidth": 2,
            "linecolor": "white",
            "showbackground": true,
            "ticks": "",
            "zerolinecolor": "white"
           },
           "yaxis": {
            "backgroundcolor": "#E5ECF6",
            "gridcolor": "white",
            "gridwidth": 2,
            "linecolor": "white",
            "showbackground": true,
            "ticks": "",
            "zerolinecolor": "white"
           },
           "zaxis": {
            "backgroundcolor": "#E5ECF6",
            "gridcolor": "white",
            "gridwidth": 2,
            "linecolor": "white",
            "showbackground": true,
            "ticks": "",
            "zerolinecolor": "white"
           }
          },
          "shapedefaults": {
           "line": {
            "color": "#2a3f5f"
           }
          },
          "ternary": {
           "aaxis": {
            "gridcolor": "white",
            "linecolor": "white",
            "ticks": ""
           },
           "baxis": {
            "gridcolor": "white",
            "linecolor": "white",
            "ticks": ""
           },
           "bgcolor": "#E5ECF6",
           "caxis": {
            "gridcolor": "white",
            "linecolor": "white",
            "ticks": ""
           }
          },
          "title": {
           "x": 0.05
          },
          "xaxis": {
           "automargin": true,
           "gridcolor": "white",
           "linecolor": "white",
           "ticks": "",
           "title": {
            "standoff": 15
           },
           "zerolinecolor": "white",
           "zerolinewidth": 2
          },
          "yaxis": {
           "automargin": true,
           "gridcolor": "white",
           "linecolor": "white",
           "ticks": "",
           "title": {
            "standoff": 15
           },
           "zerolinecolor": "white",
           "zerolinewidth": 2
          }
         }
        }
       },
       "config": {
        "plotlyServerURL": "https://plot.ly"
       }
      },
      "text/html": "<div>                            <div id=\"da916e91-736d-4c27-9fc5-ddc05fa09d39\" class=\"plotly-graph-div\" style=\"height:525px; width:100%;\"></div>            <script type=\"text/javascript\">                require([\"plotly\"], function(Plotly) {                    window.PLOTLYENV=window.PLOTLYENV || {};                                    if (document.getElementById(\"da916e91-736d-4c27-9fc5-ddc05fa09d39\")) {                    Plotly.newPlot(                        \"da916e91-736d-4c27-9fc5-ddc05fa09d39\",                        [{\"cliponaxis\":false,\"hovertemplate\":[\"dropout_l0 (UniformDistribution): 0.001895649507804679<extra></extra>\",\"activation_1 (CategoricalDistribution): 0.002397348369041149<extra></extra>\",\"epochs (IntUniformDistribution): 0.012240284077028976<extra></extra>\",\"optimizer (CategoricalDistribution): 0.014593502196411505<extra></extra>\",\"batch_size (IntUniformDistribution): 0.020000787635874567<extra></extra>\",\"activation_0 (CategoricalDistribution): 0.03522584080802115<extra></extra>\",\"n_layers (IntUniformDistribution): 0.03776323442445941<extra></extra>\",\"layer_1 (IntUniformDistribution): 0.07707752781698961<extra></extra>\",\"layer_0 (IntUniformDistribution): 0.08723873365037936<extra></extra>\",\"dropout_l1 (UniformDistribution): 0.7115670915139897<extra></extra>\"],\"marker\":{\"color\":\"rgb(66,146,198)\"},\"orientation\":\"h\",\"text\":[\"0.001895649507804679\",\"0.002397348369041149\",\"0.012240284077028976\",\"0.014593502196411505\",\"0.020000787635874567\",\"0.03522584080802115\",\"0.03776323442445941\",\"0.07707752781698961\",\"0.08723873365037936\",\"0.7115670915139897\"],\"textposition\":\"outside\",\"texttemplate\":\"%{text:.2f}\",\"x\":[0.001895649507804679,0.002397348369041149,0.012240284077028976,0.014593502196411505,0.020000787635874567,0.03522584080802115,0.03776323442445941,0.07707752781698961,0.08723873365037936,0.7115670915139897],\"y\":[\"dropout_l0\",\"activation_1\",\"epochs\",\"optimizer\",\"batch_size\",\"activation_0\",\"n_layers\",\"layer_1\",\"layer_0\",\"dropout_l1\"],\"type\":\"bar\"}],                        {\"showlegend\":false,\"title\":{\"text\":\"Hyperparameter Importances\"},\"xaxis\":{\"title\":{\"text\":\"Importance for Objective Value\"}},\"yaxis\":{\"title\":{\"text\":\"Hyperparameter\"}},\"template\":{\"data\":{\"bar\":[{\"error_x\":{\"color\":\"#2a3f5f\"},\"error_y\":{\"color\":\"#2a3f5f\"},\"marker\":{\"line\":{\"color\":\"#E5ECF6\",\"width\":0.5},\"pattern\":{\"fillmode\":\"overlay\",\"size\":10,\"solidity\":0.2}},\"type\":\"bar\"}],\"barpolar\":[{\"marker\":{\"line\":{\"color\":\"#E5ECF6\",\"width\":0.5},\"pattern\":{\"fillmode\":\"overlay\",\"size\":10,\"solidity\":0.2}},\"type\":\"barpolar\"}],\"carpet\":[{\"aaxis\":{\"endlinecolor\":\"#2a3f5f\",\"gridcolor\":\"white\",\"linecolor\":\"white\",\"minorgridcolor\":\"white\",\"startlinecolor\":\"#2a3f5f\"},\"baxis\":{\"endlinecolor\":\"#2a3f5f\",\"gridcolor\":\"white\",\"linecolor\":\"white\",\"minorgridcolor\":\"white\",\"startlinecolor\":\"#2a3f5f\"},\"type\":\"carpet\"}],\"choropleth\":[{\"colorbar\":{\"outlinewidth\":0,\"ticks\":\"\"},\"type\":\"choropleth\"}],\"contour\":[{\"colorbar\":{\"outlinewidth\":0,\"ticks\":\"\"},\"colorscale\":[[0.0,\"#0d0887\"],[0.1111111111111111,\"#46039f\"],[0.2222222222222222,\"#7201a8\"],[0.3333333333333333,\"#9c179e\"],[0.4444444444444444,\"#bd3786\"],[0.5555555555555556,\"#d8576b\"],[0.6666666666666666,\"#ed7953\"],[0.7777777777777778,\"#fb9f3a\"],[0.8888888888888888,\"#fdca26\"],[1.0,\"#f0f921\"]],\"type\":\"contour\"}],\"contourcarpet\":[{\"colorbar\":{\"outlinewidth\":0,\"ticks\":\"\"},\"type\":\"contourcarpet\"}],\"heatmap\":[{\"colorbar\":{\"outlinewidth\":0,\"ticks\":\"\"},\"colorscale\":[[0.0,\"#0d0887\"],[0.1111111111111111,\"#46039f\"],[0.2222222222222222,\"#7201a8\"],[0.3333333333333333,\"#9c179e\"],[0.4444444444444444,\"#bd3786\"],[0.5555555555555556,\"#d8576b\"],[0.6666666666666666,\"#ed7953\"],[0.7777777777777778,\"#fb9f3a\"],[0.8888888888888888,\"#fdca26\"],[1.0,\"#f0f921\"]],\"type\":\"heatmap\"}],\"heatmapgl\":[{\"colorbar\":{\"outlinewidth\":0,\"ticks\":\"\"},\"colorscale\":[[0.0,\"#0d0887\"],[0.1111111111111111,\"#46039f\"],[0.2222222222222222,\"#7201a8\"],[0.3333333333333333,\"#9c179e\"],[0.4444444444444444,\"#bd3786\"],[0.5555555555555556,\"#d8576b\"],[0.6666666666666666,\"#ed7953\"],[0.7777777777777778,\"#fb9f3a\"],[0.8888888888888888,\"#fdca26\"],[1.0,\"#f0f921\"]],\"type\":\"heatmapgl\"}],\"histogram\":[{\"marker\":{\"pattern\":{\"fillmode\":\"overlay\",\"size\":10,\"solidity\":0.2}},\"type\":\"histogram\"}],\"histogram2d\":[{\"colorbar\":{\"outlinewidth\":0,\"ticks\":\"\"},\"colorscale\":[[0.0,\"#0d0887\"],[0.1111111111111111,\"#46039f\"],[0.2222222222222222,\"#7201a8\"],[0.3333333333333333,\"#9c179e\"],[0.4444444444444444,\"#bd3786\"],[0.5555555555555556,\"#d8576b\"],[0.6666666666666666,\"#ed7953\"],[0.7777777777777778,\"#fb9f3a\"],[0.8888888888888888,\"#fdca26\"],[1.0,\"#f0f921\"]],\"type\":\"histogram2d\"}],\"histogram2dcontour\":[{\"colorbar\":{\"outlinewidth\":0,\"ticks\":\"\"},\"colorscale\":[[0.0,\"#0d0887\"],[0.1111111111111111,\"#46039f\"],[0.2222222222222222,\"#7201a8\"],[0.3333333333333333,\"#9c179e\"],[0.4444444444444444,\"#bd3786\"],[0.5555555555555556,\"#d8576b\"],[0.6666666666666666,\"#ed7953\"],[0.7777777777777778,\"#fb9f3a\"],[0.8888888888888888,\"#fdca26\"],[1.0,\"#f0f921\"]],\"type\":\"histogram2dcontour\"}],\"mesh3d\":[{\"colorbar\":{\"outlinewidth\":0,\"ticks\":\"\"},\"type\":\"mesh3d\"}],\"parcoords\":[{\"line\":{\"colorbar\":{\"outlinewidth\":0,\"ticks\":\"\"}},\"type\":\"parcoords\"}],\"pie\":[{\"automargin\":true,\"type\":\"pie\"}],\"scatter\":[{\"marker\":{\"colorbar\":{\"outlinewidth\":0,\"ticks\":\"\"}},\"type\":\"scatter\"}],\"scatter3d\":[{\"line\":{\"colorbar\":{\"outlinewidth\":0,\"ticks\":\"\"}},\"marker\":{\"colorbar\":{\"outlinewidth\":0,\"ticks\":\"\"}},\"type\":\"scatter3d\"}],\"scattercarpet\":[{\"marker\":{\"colorbar\":{\"outlinewidth\":0,\"ticks\":\"\"}},\"type\":\"scattercarpet\"}],\"scattergeo\":[{\"marker\":{\"colorbar\":{\"outlinewidth\":0,\"ticks\":\"\"}},\"type\":\"scattergeo\"}],\"scattergl\":[{\"marker\":{\"colorbar\":{\"outlinewidth\":0,\"ticks\":\"\"}},\"type\":\"scattergl\"}],\"scattermapbox\":[{\"marker\":{\"colorbar\":{\"outlinewidth\":0,\"ticks\":\"\"}},\"type\":\"scattermapbox\"}],\"scatterpolar\":[{\"marker\":{\"colorbar\":{\"outlinewidth\":0,\"ticks\":\"\"}},\"type\":\"scatterpolar\"}],\"scatterpolargl\":[{\"marker\":{\"colorbar\":{\"outlinewidth\":0,\"ticks\":\"\"}},\"type\":\"scatterpolargl\"}],\"scatterternary\":[{\"marker\":{\"colorbar\":{\"outlinewidth\":0,\"ticks\":\"\"}},\"type\":\"scatterternary\"}],\"surface\":[{\"colorbar\":{\"outlinewidth\":0,\"ticks\":\"\"},\"colorscale\":[[0.0,\"#0d0887\"],[0.1111111111111111,\"#46039f\"],[0.2222222222222222,\"#7201a8\"],[0.3333333333333333,\"#9c179e\"],[0.4444444444444444,\"#bd3786\"],[0.5555555555555556,\"#d8576b\"],[0.6666666666666666,\"#ed7953\"],[0.7777777777777778,\"#fb9f3a\"],[0.8888888888888888,\"#fdca26\"],[1.0,\"#f0f921\"]],\"type\":\"surface\"}],\"table\":[{\"cells\":{\"fill\":{\"color\":\"#EBF0F8\"},\"line\":{\"color\":\"white\"}},\"header\":{\"fill\":{\"color\":\"#C8D4E3\"},\"line\":{\"color\":\"white\"}},\"type\":\"table\"}]},\"layout\":{\"annotationdefaults\":{\"arrowcolor\":\"#2a3f5f\",\"arrowhead\":0,\"arrowwidth\":1},\"autotypenumbers\":\"strict\",\"coloraxis\":{\"colorbar\":{\"outlinewidth\":0,\"ticks\":\"\"}},\"colorscale\":{\"diverging\":[[0,\"#8e0152\"],[0.1,\"#c51b7d\"],[0.2,\"#de77ae\"],[0.3,\"#f1b6da\"],[0.4,\"#fde0ef\"],[0.5,\"#f7f7f7\"],[0.6,\"#e6f5d0\"],[0.7,\"#b8e186\"],[0.8,\"#7fbc41\"],[0.9,\"#4d9221\"],[1,\"#276419\"]],\"sequential\":[[0.0,\"#0d0887\"],[0.1111111111111111,\"#46039f\"],[0.2222222222222222,\"#7201a8\"],[0.3333333333333333,\"#9c179e\"],[0.4444444444444444,\"#bd3786\"],[0.5555555555555556,\"#d8576b\"],[0.6666666666666666,\"#ed7953\"],[0.7777777777777778,\"#fb9f3a\"],[0.8888888888888888,\"#fdca26\"],[1.0,\"#f0f921\"]],\"sequentialminus\":[[0.0,\"#0d0887\"],[0.1111111111111111,\"#46039f\"],[0.2222222222222222,\"#7201a8\"],[0.3333333333333333,\"#9c179e\"],[0.4444444444444444,\"#bd3786\"],[0.5555555555555556,\"#d8576b\"],[0.6666666666666666,\"#ed7953\"],[0.7777777777777778,\"#fb9f3a\"],[0.8888888888888888,\"#fdca26\"],[1.0,\"#f0f921\"]]},\"colorway\":[\"#636efa\",\"#EF553B\",\"#00cc96\",\"#ab63fa\",\"#FFA15A\",\"#19d3f3\",\"#FF6692\",\"#B6E880\",\"#FF97FF\",\"#FECB52\"],\"font\":{\"color\":\"#2a3f5f\"},\"geo\":{\"bgcolor\":\"white\",\"lakecolor\":\"white\",\"landcolor\":\"#E5ECF6\",\"showlakes\":true,\"showland\":true,\"subunitcolor\":\"white\"},\"hoverlabel\":{\"align\":\"left\"},\"hovermode\":\"closest\",\"mapbox\":{\"style\":\"light\"},\"paper_bgcolor\":\"white\",\"plot_bgcolor\":\"#E5ECF6\",\"polar\":{\"angularaxis\":{\"gridcolor\":\"white\",\"linecolor\":\"white\",\"ticks\":\"\"},\"bgcolor\":\"#E5ECF6\",\"radialaxis\":{\"gridcolor\":\"white\",\"linecolor\":\"white\",\"ticks\":\"\"}},\"scene\":{\"xaxis\":{\"backgroundcolor\":\"#E5ECF6\",\"gridcolor\":\"white\",\"gridwidth\":2,\"linecolor\":\"white\",\"showbackground\":true,\"ticks\":\"\",\"zerolinecolor\":\"white\"},\"yaxis\":{\"backgroundcolor\":\"#E5ECF6\",\"gridcolor\":\"white\",\"gridwidth\":2,\"linecolor\":\"white\",\"showbackground\":true,\"ticks\":\"\",\"zerolinecolor\":\"white\"},\"zaxis\":{\"backgroundcolor\":\"#E5ECF6\",\"gridcolor\":\"white\",\"gridwidth\":2,\"linecolor\":\"white\",\"showbackground\":true,\"ticks\":\"\",\"zerolinecolor\":\"white\"}},\"shapedefaults\":{\"line\":{\"color\":\"#2a3f5f\"}},\"ternary\":{\"aaxis\":{\"gridcolor\":\"white\",\"linecolor\":\"white\",\"ticks\":\"\"},\"baxis\":{\"gridcolor\":\"white\",\"linecolor\":\"white\",\"ticks\":\"\"},\"bgcolor\":\"#E5ECF6\",\"caxis\":{\"gridcolor\":\"white\",\"linecolor\":\"white\",\"ticks\":\"\"}},\"title\":{\"x\":0.05},\"xaxis\":{\"automargin\":true,\"gridcolor\":\"white\",\"linecolor\":\"white\",\"ticks\":\"\",\"title\":{\"standoff\":15},\"zerolinecolor\":\"white\",\"zerolinewidth\":2},\"yaxis\":{\"automargin\":true,\"gridcolor\":\"white\",\"linecolor\":\"white\",\"ticks\":\"\",\"title\":{\"standoff\":15},\"zerolinecolor\":\"white\",\"zerolinewidth\":2}}}},                        {\"responsive\": true}                    ).then(function(){\n                            \nvar gd = document.getElementById('da916e91-736d-4c27-9fc5-ddc05fa09d39');\nvar x = new MutationObserver(function (mutations, observer) {{\n        var display = window.getComputedStyle(gd).display;\n        if (!display || display === 'none') {{\n            console.log([gd, 'removed!']);\n            Plotly.purge(gd);\n            observer.disconnect();\n        }}\n}});\n\n// Listen for the removal of the full notebook cells\nvar notebookContainer = gd.closest('#notebook-container');\nif (notebookContainer) {{\n    x.observe(notebookContainer, {childList: true});\n}}\n\n// Listen for the clearing of the current output cell\nvar outputEl = gd.closest('.output');\nif (outputEl) {{\n    x.observe(outputEl, {childList: true});\n}}\n\n                        })                };                });            </script>        </div>"
     },
     "metadata": {},
     "output_type": "display_data"
    }
   ],
   "source": [
    "plot_param_importances(study)"
   ],
   "metadata": {
    "collapsed": false,
    "pycharm": {
     "name": "#%%\n"
    }
   }
  },
  {
   "cell_type": "markdown",
   "source": [
    "We see that it trended towards layers of size 300, and preferred 7+ layers. RELU was also much more used than the other activation functions."
   ],
   "metadata": {
    "collapsed": false
   }
  },
  {
   "cell_type": "code",
   "execution_count": 113,
   "outputs": [
    {
     "data": {
      "application/vnd.plotly.v1+json": {
       "data": [
        {
         "marker": {
          "color": [
           0,
           1,
           2,
           3,
           4,
           8,
           13,
           19,
           24,
           30,
           33,
           40,
           41,
           42,
           45,
           48,
           54,
           56,
           58,
           71,
           72,
           76,
           78,
           91,
           92,
           95
          ],
          "colorbar": {
           "title": {
            "text": "#Trials"
           },
           "x": 1.0,
           "xpad": 40
          },
          "colorscale": [
           [
            0.0,
            "rgb(247,251,255)"
           ],
           [
            0.125,
            "rgb(222,235,247)"
           ],
           [
            0.25,
            "rgb(198,219,239)"
           ],
           [
            0.375,
            "rgb(158,202,225)"
           ],
           [
            0.5,
            "rgb(107,174,214)"
           ],
           [
            0.625,
            "rgb(66,146,198)"
           ],
           [
            0.75,
            "rgb(33,113,181)"
           ],
           [
            0.875,
            "rgb(8,81,156)"
           ],
           [
            1.0,
            "rgb(8,48,107)"
           ]
          ],
          "line": {
           "color": "Grey",
           "width": 0.5
          },
          "showscale": true
         },
         "mode": "markers",
         "showlegend": false,
         "x": [
          "relu",
          "linear",
          "relu",
          "tanh",
          "tanh",
          "linear",
          "tanh",
          "linear",
          "linear",
          "linear",
          "relu",
          "relu",
          "relu",
          "relu",
          "relu",
          "relu",
          "tanh",
          "tanh",
          "relu",
          "relu",
          "tanh",
          "tanh",
          "linear",
          "relu",
          "relu",
          "tanh"
         ],
         "y": [
          3.6093362176E10,
          3.6159287296E10,
          3.6094758912E10,
          3.6092338176E10,
          3.6093616128E10,
          3.6092248064E10,
          3.6094111744E10,
          3.609247744E10,
          3.6092358656E10,
          3.6092321792E10,
          3.609223168E10,
          3.6092317696E10,
          3.60922112E10,
          3.6092399616E10,
          3.6092346368E10,
          3.6092489728E10,
          3.60923136E10,
          3.6092346368E10,
          3.6093136896E10,
          3.609235456E10,
          3.6092346368E10,
          3.6092305408E10,
          3.6092362752E10,
          3.609235456E10,
          3.609247744E10,
          3.6092387328E10
         ],
         "type": "scatter",
         "xaxis": "x",
         "yaxis": "y"
        },
        {
         "marker": {
          "color": [
           0,
           1,
           2,
           3,
           4,
           8,
           13,
           19,
           24,
           30,
           33,
           40,
           41,
           42,
           45,
           48,
           54,
           56,
           58,
           71,
           72,
           76,
           78,
           91,
           92,
           95
          ],
          "colorbar": {
           "title": {
            "text": "#Trials"
           },
           "x": 1.0,
           "xpad": 40
          },
          "colorscale": [
           [
            0.0,
            "rgb(247,251,255)"
           ],
           [
            0.125,
            "rgb(222,235,247)"
           ],
           [
            0.25,
            "rgb(198,219,239)"
           ],
           [
            0.375,
            "rgb(158,202,225)"
           ],
           [
            0.5,
            "rgb(107,174,214)"
           ],
           [
            0.625,
            "rgb(66,146,198)"
           ],
           [
            0.75,
            "rgb(33,113,181)"
           ],
           [
            0.875,
            "rgb(8,81,156)"
           ],
           [
            1.0,
            "rgb(8,48,107)"
           ]
          ],
          "line": {
           "color": "Grey",
           "width": 0.5
          },
          "showscale": false
         },
         "mode": "markers",
         "showlegend": false,
         "x": [
          176,
          153,
          169,
          272,
          219,
          138,
          49,
          99,
          4,
          195,
          129,
          131,
          124,
          126,
          123,
          160,
          79,
          115,
          163,
          122,
          114,
          102,
          37,
          119,
          97,
          138
         ],
         "y": [
          3.6093362176E10,
          3.6159287296E10,
          3.6094758912E10,
          3.6092338176E10,
          3.6093616128E10,
          3.6092248064E10,
          3.6094111744E10,
          3.609247744E10,
          3.6092358656E10,
          3.6092321792E10,
          3.609223168E10,
          3.6092317696E10,
          3.60922112E10,
          3.6092399616E10,
          3.6092346368E10,
          3.6092489728E10,
          3.60923136E10,
          3.6092346368E10,
          3.6093136896E10,
          3.609235456E10,
          3.6092346368E10,
          3.6092305408E10,
          3.6092362752E10,
          3.609235456E10,
          3.609247744E10,
          3.6092387328E10
         ],
         "type": "scatter",
         "xaxis": "x2",
         "yaxis": "y2"
        },
        {
         "marker": {
          "color": [
           0,
           1,
           2,
           3,
           4,
           8,
           13,
           19,
           24,
           30,
           33,
           40,
           41,
           42,
           45,
           48,
           54,
           56,
           58,
           71,
           72,
           76,
           78,
           91,
           92,
           95
          ],
          "colorbar": {
           "title": {
            "text": "#Trials"
           },
           "x": 1.0,
           "xpad": 40
          },
          "colorscale": [
           [
            0.0,
            "rgb(247,251,255)"
           ],
           [
            0.125,
            "rgb(222,235,247)"
           ],
           [
            0.25,
            "rgb(198,219,239)"
           ],
           [
            0.375,
            "rgb(158,202,225)"
           ],
           [
            0.5,
            "rgb(107,174,214)"
           ],
           [
            0.625,
            "rgb(66,146,198)"
           ],
           [
            0.75,
            "rgb(33,113,181)"
           ],
           [
            0.875,
            "rgb(8,81,156)"
           ],
           [
            1.0,
            "rgb(8,48,107)"
           ]
          ],
          "line": {
           "color": "Grey",
           "width": 0.5
          },
          "showscale": false
         },
         "mode": "markers",
         "showlegend": false,
         "x": [
          36,
          907,
          56,
          909,
          946,
          817,
          1010,
          823,
          658,
          931,
          904,
          172,
          242,
          135,
          137,
          194,
          979,
          907,
          837,
          154,
          909,
          936,
          960,
          58,
          122,
          1001
         ],
         "y": [
          3.6093362176E10,
          3.6159287296E10,
          3.6094758912E10,
          3.6092338176E10,
          3.6093616128E10,
          3.6092248064E10,
          3.6094111744E10,
          3.609247744E10,
          3.6092358656E10,
          3.6092321792E10,
          3.609223168E10,
          3.6092317696E10,
          3.60922112E10,
          3.6092399616E10,
          3.6092346368E10,
          3.6092489728E10,
          3.60923136E10,
          3.6092346368E10,
          3.6093136896E10,
          3.609235456E10,
          3.6092346368E10,
          3.6092305408E10,
          3.6092362752E10,
          3.609235456E10,
          3.609247744E10,
          3.6092387328E10
         ],
         "type": "scatter",
         "xaxis": "x3",
         "yaxis": "y3"
        },
        {
         "marker": {
          "color": [
           0,
           1,
           2,
           3,
           4,
           8,
           13,
           19,
           24,
           30,
           33,
           40,
           41,
           42,
           45,
           48,
           54,
           56,
           58,
           71,
           72,
           76,
           78,
           91,
           92,
           95
          ],
          "colorbar": {
           "title": {
            "text": "#Trials"
           },
           "x": 1.0,
           "xpad": 40
          },
          "colorscale": [
           [
            0.0,
            "rgb(247,251,255)"
           ],
           [
            0.125,
            "rgb(222,235,247)"
           ],
           [
            0.25,
            "rgb(198,219,239)"
           ],
           [
            0.375,
            "rgb(158,202,225)"
           ],
           [
            0.5,
            "rgb(107,174,214)"
           ],
           [
            0.625,
            "rgb(66,146,198)"
           ],
           [
            0.75,
            "rgb(33,113,181)"
           ],
           [
            0.875,
            "rgb(8,81,156)"
           ],
           [
            1.0,
            "rgb(8,48,107)"
           ]
          ],
          "line": {
           "color": "Grey",
           "width": 0.5
          },
          "showscale": false
         },
         "mode": "markers",
         "showlegend": false,
         "x": [
          215,
          844,
          59,
          767,
          1002,
          397,
          716,
          49,
          849,
          593,
          380,
          153,
          157,
          153,
          19,
          387,
          649,
          646,
          99,
          46,
          657,
          634,
          281,
          214,
          87,
          648
         ],
         "y": [
          3.6093362176E10,
          3.6159287296E10,
          3.6094758912E10,
          3.6092338176E10,
          3.6093616128E10,
          3.6092248064E10,
          3.6094111744E10,
          3.609247744E10,
          3.6092358656E10,
          3.6092321792E10,
          3.609223168E10,
          3.6092317696E10,
          3.60922112E10,
          3.6092399616E10,
          3.6092346368E10,
          3.6092489728E10,
          3.60923136E10,
          3.6092346368E10,
          3.6093136896E10,
          3.609235456E10,
          3.6092346368E10,
          3.6092305408E10,
          3.6092362752E10,
          3.609235456E10,
          3.609247744E10,
          3.6092387328E10
         ],
         "type": "scatter",
         "xaxis": "x4",
         "yaxis": "y4"
        },
        {
         "marker": {
          "color": [
           0,
           1,
           2,
           4,
           8,
           13,
           24,
           30,
           33,
           40,
           41,
           42,
           45,
           48,
           54,
           56,
           58,
           71,
           72,
           76,
           78,
           91,
           92,
           95
          ],
          "colorbar": {
           "title": {
            "text": "#Trials"
           },
           "x": 1.0,
           "xpad": 40
          },
          "colorscale": [
           [
            0.0,
            "rgb(247,251,255)"
           ],
           [
            0.125,
            "rgb(222,235,247)"
           ],
           [
            0.25,
            "rgb(198,219,239)"
           ],
           [
            0.375,
            "rgb(158,202,225)"
           ],
           [
            0.5,
            "rgb(107,174,214)"
           ],
           [
            0.625,
            "rgb(66,146,198)"
           ],
           [
            0.75,
            "rgb(33,113,181)"
           ],
           [
            0.875,
            "rgb(8,81,156)"
           ],
           [
            1.0,
            "rgb(8,48,107)"
           ]
          ],
          "line": {
           "color": "Grey",
           "width": 0.5
          },
          "showscale": false
         },
         "mode": "markers",
         "showlegend": false,
         "x": [
          977,
          476,
          627,
          605,
          416,
          20,
          412,
          124,
          334,
          476,
          482,
          513,
          667,
          648,
          721,
          764,
          689,
          674,
          799,
          747,
          495,
          785,
          660,
          474
         ],
         "y": [
          3.6093362176E10,
          3.6159287296E10,
          3.6094758912E10,
          3.6093616128E10,
          3.6092248064E10,
          3.6094111744E10,
          3.6092358656E10,
          3.6092321792E10,
          3.609223168E10,
          3.6092317696E10,
          3.60922112E10,
          3.6092399616E10,
          3.6092346368E10,
          3.6092489728E10,
          3.60923136E10,
          3.6092346368E10,
          3.6093136896E10,
          3.609235456E10,
          3.6092346368E10,
          3.6092305408E10,
          3.6092362752E10,
          3.609235456E10,
          3.609247744E10,
          3.6092387328E10
         ],
         "type": "scatter",
         "xaxis": "x5",
         "yaxis": "y5"
        },
        {
         "marker": {
          "color": [
           0,
           1,
           2,
           3,
           4,
           8,
           13,
           19,
           24,
           30,
           33,
           40,
           41,
           42,
           45,
           48,
           54,
           56,
           58,
           71,
           72,
           76,
           78,
           91,
           92,
           95
          ],
          "colorbar": {
           "title": {
            "text": "#Trials"
           },
           "x": 1.0,
           "xpad": 40
          },
          "colorscale": [
           [
            0.0,
            "rgb(247,251,255)"
           ],
           [
            0.125,
            "rgb(222,235,247)"
           ],
           [
            0.25,
            "rgb(198,219,239)"
           ],
           [
            0.375,
            "rgb(158,202,225)"
           ],
           [
            0.5,
            "rgb(107,174,214)"
           ],
           [
            0.625,
            "rgb(66,146,198)"
           ],
           [
            0.75,
            "rgb(33,113,181)"
           ],
           [
            0.875,
            "rgb(8,81,156)"
           ],
           [
            1.0,
            "rgb(8,48,107)"
           ]
          ],
          "line": {
           "color": "Grey",
           "width": 0.5
          },
          "showscale": false
         },
         "mode": "markers",
         "showlegend": false,
         "x": [
          8,
          3,
          8,
          2,
          4,
          4,
          5,
          2,
          4,
          4,
          5,
          6,
          6,
          7,
          8,
          5,
          3,
          4,
          6,
          8,
          4,
          5,
          6,
          8,
          9,
          4
         ],
         "y": [
          3.6093362176E10,
          3.6159287296E10,
          3.6094758912E10,
          3.6092338176E10,
          3.6093616128E10,
          3.6092248064E10,
          3.6094111744E10,
          3.609247744E10,
          3.6092358656E10,
          3.6092321792E10,
          3.609223168E10,
          3.6092317696E10,
          3.60922112E10,
          3.6092399616E10,
          3.6092346368E10,
          3.6092489728E10,
          3.60923136E10,
          3.6092346368E10,
          3.6093136896E10,
          3.609235456E10,
          3.6092346368E10,
          3.6092305408E10,
          3.6092362752E10,
          3.609235456E10,
          3.609247744E10,
          3.6092387328E10
         ],
         "type": "scatter",
         "xaxis": "x6",
         "yaxis": "y6"
        }
       ],
       "layout": {
        "template": {
         "data": {
          "bar": [
           {
            "error_x": {
             "color": "#2a3f5f"
            },
            "error_y": {
             "color": "#2a3f5f"
            },
            "marker": {
             "line": {
              "color": "#E5ECF6",
              "width": 0.5
             },
             "pattern": {
              "fillmode": "overlay",
              "size": 10,
              "solidity": 0.2
             }
            },
            "type": "bar"
           }
          ],
          "barpolar": [
           {
            "marker": {
             "line": {
              "color": "#E5ECF6",
              "width": 0.5
             },
             "pattern": {
              "fillmode": "overlay",
              "size": 10,
              "solidity": 0.2
             }
            },
            "type": "barpolar"
           }
          ],
          "carpet": [
           {
            "aaxis": {
             "endlinecolor": "#2a3f5f",
             "gridcolor": "white",
             "linecolor": "white",
             "minorgridcolor": "white",
             "startlinecolor": "#2a3f5f"
            },
            "baxis": {
             "endlinecolor": "#2a3f5f",
             "gridcolor": "white",
             "linecolor": "white",
             "minorgridcolor": "white",
             "startlinecolor": "#2a3f5f"
            },
            "type": "carpet"
           }
          ],
          "choropleth": [
           {
            "colorbar": {
             "outlinewidth": 0,
             "ticks": ""
            },
            "type": "choropleth"
           }
          ],
          "contour": [
           {
            "colorbar": {
             "outlinewidth": 0,
             "ticks": ""
            },
            "colorscale": [
             [
              0.0,
              "#0d0887"
             ],
             [
              0.1111111111111111,
              "#46039f"
             ],
             [
              0.2222222222222222,
              "#7201a8"
             ],
             [
              0.3333333333333333,
              "#9c179e"
             ],
             [
              0.4444444444444444,
              "#bd3786"
             ],
             [
              0.5555555555555556,
              "#d8576b"
             ],
             [
              0.6666666666666666,
              "#ed7953"
             ],
             [
              0.7777777777777778,
              "#fb9f3a"
             ],
             [
              0.8888888888888888,
              "#fdca26"
             ],
             [
              1.0,
              "#f0f921"
             ]
            ],
            "type": "contour"
           }
          ],
          "contourcarpet": [
           {
            "colorbar": {
             "outlinewidth": 0,
             "ticks": ""
            },
            "type": "contourcarpet"
           }
          ],
          "heatmap": [
           {
            "colorbar": {
             "outlinewidth": 0,
             "ticks": ""
            },
            "colorscale": [
             [
              0.0,
              "#0d0887"
             ],
             [
              0.1111111111111111,
              "#46039f"
             ],
             [
              0.2222222222222222,
              "#7201a8"
             ],
             [
              0.3333333333333333,
              "#9c179e"
             ],
             [
              0.4444444444444444,
              "#bd3786"
             ],
             [
              0.5555555555555556,
              "#d8576b"
             ],
             [
              0.6666666666666666,
              "#ed7953"
             ],
             [
              0.7777777777777778,
              "#fb9f3a"
             ],
             [
              0.8888888888888888,
              "#fdca26"
             ],
             [
              1.0,
              "#f0f921"
             ]
            ],
            "type": "heatmap"
           }
          ],
          "heatmapgl": [
           {
            "colorbar": {
             "outlinewidth": 0,
             "ticks": ""
            },
            "colorscale": [
             [
              0.0,
              "#0d0887"
             ],
             [
              0.1111111111111111,
              "#46039f"
             ],
             [
              0.2222222222222222,
              "#7201a8"
             ],
             [
              0.3333333333333333,
              "#9c179e"
             ],
             [
              0.4444444444444444,
              "#bd3786"
             ],
             [
              0.5555555555555556,
              "#d8576b"
             ],
             [
              0.6666666666666666,
              "#ed7953"
             ],
             [
              0.7777777777777778,
              "#fb9f3a"
             ],
             [
              0.8888888888888888,
              "#fdca26"
             ],
             [
              1.0,
              "#f0f921"
             ]
            ],
            "type": "heatmapgl"
           }
          ],
          "histogram": [
           {
            "marker": {
             "pattern": {
              "fillmode": "overlay",
              "size": 10,
              "solidity": 0.2
             }
            },
            "type": "histogram"
           }
          ],
          "histogram2d": [
           {
            "colorbar": {
             "outlinewidth": 0,
             "ticks": ""
            },
            "colorscale": [
             [
              0.0,
              "#0d0887"
             ],
             [
              0.1111111111111111,
              "#46039f"
             ],
             [
              0.2222222222222222,
              "#7201a8"
             ],
             [
              0.3333333333333333,
              "#9c179e"
             ],
             [
              0.4444444444444444,
              "#bd3786"
             ],
             [
              0.5555555555555556,
              "#d8576b"
             ],
             [
              0.6666666666666666,
              "#ed7953"
             ],
             [
              0.7777777777777778,
              "#fb9f3a"
             ],
             [
              0.8888888888888888,
              "#fdca26"
             ],
             [
              1.0,
              "#f0f921"
             ]
            ],
            "type": "histogram2d"
           }
          ],
          "histogram2dcontour": [
           {
            "colorbar": {
             "outlinewidth": 0,
             "ticks": ""
            },
            "colorscale": [
             [
              0.0,
              "#0d0887"
             ],
             [
              0.1111111111111111,
              "#46039f"
             ],
             [
              0.2222222222222222,
              "#7201a8"
             ],
             [
              0.3333333333333333,
              "#9c179e"
             ],
             [
              0.4444444444444444,
              "#bd3786"
             ],
             [
              0.5555555555555556,
              "#d8576b"
             ],
             [
              0.6666666666666666,
              "#ed7953"
             ],
             [
              0.7777777777777778,
              "#fb9f3a"
             ],
             [
              0.8888888888888888,
              "#fdca26"
             ],
             [
              1.0,
              "#f0f921"
             ]
            ],
            "type": "histogram2dcontour"
           }
          ],
          "mesh3d": [
           {
            "colorbar": {
             "outlinewidth": 0,
             "ticks": ""
            },
            "type": "mesh3d"
           }
          ],
          "parcoords": [
           {
            "line": {
             "colorbar": {
              "outlinewidth": 0,
              "ticks": ""
             }
            },
            "type": "parcoords"
           }
          ],
          "pie": [
           {
            "automargin": true,
            "type": "pie"
           }
          ],
          "scatter": [
           {
            "marker": {
             "colorbar": {
              "outlinewidth": 0,
              "ticks": ""
             }
            },
            "type": "scatter"
           }
          ],
          "scatter3d": [
           {
            "line": {
             "colorbar": {
              "outlinewidth": 0,
              "ticks": ""
             }
            },
            "marker": {
             "colorbar": {
              "outlinewidth": 0,
              "ticks": ""
             }
            },
            "type": "scatter3d"
           }
          ],
          "scattercarpet": [
           {
            "marker": {
             "colorbar": {
              "outlinewidth": 0,
              "ticks": ""
             }
            },
            "type": "scattercarpet"
           }
          ],
          "scattergeo": [
           {
            "marker": {
             "colorbar": {
              "outlinewidth": 0,
              "ticks": ""
             }
            },
            "type": "scattergeo"
           }
          ],
          "scattergl": [
           {
            "marker": {
             "colorbar": {
              "outlinewidth": 0,
              "ticks": ""
             }
            },
            "type": "scattergl"
           }
          ],
          "scattermapbox": [
           {
            "marker": {
             "colorbar": {
              "outlinewidth": 0,
              "ticks": ""
             }
            },
            "type": "scattermapbox"
           }
          ],
          "scatterpolar": [
           {
            "marker": {
             "colorbar": {
              "outlinewidth": 0,
              "ticks": ""
             }
            },
            "type": "scatterpolar"
           }
          ],
          "scatterpolargl": [
           {
            "marker": {
             "colorbar": {
              "outlinewidth": 0,
              "ticks": ""
             }
            },
            "type": "scatterpolargl"
           }
          ],
          "scatterternary": [
           {
            "marker": {
             "colorbar": {
              "outlinewidth": 0,
              "ticks": ""
             }
            },
            "type": "scatterternary"
           }
          ],
          "surface": [
           {
            "colorbar": {
             "outlinewidth": 0,
             "ticks": ""
            },
            "colorscale": [
             [
              0.0,
              "#0d0887"
             ],
             [
              0.1111111111111111,
              "#46039f"
             ],
             [
              0.2222222222222222,
              "#7201a8"
             ],
             [
              0.3333333333333333,
              "#9c179e"
             ],
             [
              0.4444444444444444,
              "#bd3786"
             ],
             [
              0.5555555555555556,
              "#d8576b"
             ],
             [
              0.6666666666666666,
              "#ed7953"
             ],
             [
              0.7777777777777778,
              "#fb9f3a"
             ],
             [
              0.8888888888888888,
              "#fdca26"
             ],
             [
              1.0,
              "#f0f921"
             ]
            ],
            "type": "surface"
           }
          ],
          "table": [
           {
            "cells": {
             "fill": {
              "color": "#EBF0F8"
             },
             "line": {
              "color": "white"
             }
            },
            "header": {
             "fill": {
              "color": "#C8D4E3"
             },
             "line": {
              "color": "white"
             }
            },
            "type": "table"
           }
          ]
         },
         "layout": {
          "annotationdefaults": {
           "arrowcolor": "#2a3f5f",
           "arrowhead": 0,
           "arrowwidth": 1
          },
          "autotypenumbers": "strict",
          "coloraxis": {
           "colorbar": {
            "outlinewidth": 0,
            "ticks": ""
           }
          },
          "colorscale": {
           "diverging": [
            [
             0,
             "#8e0152"
            ],
            [
             0.1,
             "#c51b7d"
            ],
            [
             0.2,
             "#de77ae"
            ],
            [
             0.3,
             "#f1b6da"
            ],
            [
             0.4,
             "#fde0ef"
            ],
            [
             0.5,
             "#f7f7f7"
            ],
            [
             0.6,
             "#e6f5d0"
            ],
            [
             0.7,
             "#b8e186"
            ],
            [
             0.8,
             "#7fbc41"
            ],
            [
             0.9,
             "#4d9221"
            ],
            [
             1,
             "#276419"
            ]
           ],
           "sequential": [
            [
             0.0,
             "#0d0887"
            ],
            [
             0.1111111111111111,
             "#46039f"
            ],
            [
             0.2222222222222222,
             "#7201a8"
            ],
            [
             0.3333333333333333,
             "#9c179e"
            ],
            [
             0.4444444444444444,
             "#bd3786"
            ],
            [
             0.5555555555555556,
             "#d8576b"
            ],
            [
             0.6666666666666666,
             "#ed7953"
            ],
            [
             0.7777777777777778,
             "#fb9f3a"
            ],
            [
             0.8888888888888888,
             "#fdca26"
            ],
            [
             1.0,
             "#f0f921"
            ]
           ],
           "sequentialminus": [
            [
             0.0,
             "#0d0887"
            ],
            [
             0.1111111111111111,
             "#46039f"
            ],
            [
             0.2222222222222222,
             "#7201a8"
            ],
            [
             0.3333333333333333,
             "#9c179e"
            ],
            [
             0.4444444444444444,
             "#bd3786"
            ],
            [
             0.5555555555555556,
             "#d8576b"
            ],
            [
             0.6666666666666666,
             "#ed7953"
            ],
            [
             0.7777777777777778,
             "#fb9f3a"
            ],
            [
             0.8888888888888888,
             "#fdca26"
            ],
            [
             1.0,
             "#f0f921"
            ]
           ]
          },
          "colorway": [
           "#636efa",
           "#EF553B",
           "#00cc96",
           "#ab63fa",
           "#FFA15A",
           "#19d3f3",
           "#FF6692",
           "#B6E880",
           "#FF97FF",
           "#FECB52"
          ],
          "font": {
           "color": "#2a3f5f"
          },
          "geo": {
           "bgcolor": "white",
           "lakecolor": "white",
           "landcolor": "#E5ECF6",
           "showlakes": true,
           "showland": true,
           "subunitcolor": "white"
          },
          "hoverlabel": {
           "align": "left"
          },
          "hovermode": "closest",
          "mapbox": {
           "style": "light"
          },
          "paper_bgcolor": "white",
          "plot_bgcolor": "#E5ECF6",
          "polar": {
           "angularaxis": {
            "gridcolor": "white",
            "linecolor": "white",
            "ticks": ""
           },
           "bgcolor": "#E5ECF6",
           "radialaxis": {
            "gridcolor": "white",
            "linecolor": "white",
            "ticks": ""
           }
          },
          "scene": {
           "xaxis": {
            "backgroundcolor": "#E5ECF6",
            "gridcolor": "white",
            "gridwidth": 2,
            "linecolor": "white",
            "showbackground": true,
            "ticks": "",
            "zerolinecolor": "white"
           },
           "yaxis": {
            "backgroundcolor": "#E5ECF6",
            "gridcolor": "white",
            "gridwidth": 2,
            "linecolor": "white",
            "showbackground": true,
            "ticks": "",
            "zerolinecolor": "white"
           },
           "zaxis": {
            "backgroundcolor": "#E5ECF6",
            "gridcolor": "white",
            "gridwidth": 2,
            "linecolor": "white",
            "showbackground": true,
            "ticks": "",
            "zerolinecolor": "white"
           }
          },
          "shapedefaults": {
           "line": {
            "color": "#2a3f5f"
           }
          },
          "ternary": {
           "aaxis": {
            "gridcolor": "white",
            "linecolor": "white",
            "ticks": ""
           },
           "baxis": {
            "gridcolor": "white",
            "linecolor": "white",
            "ticks": ""
           },
           "bgcolor": "#E5ECF6",
           "caxis": {
            "gridcolor": "white",
            "linecolor": "white",
            "ticks": ""
           }
          },
          "title": {
           "x": 0.05
          },
          "xaxis": {
           "automargin": true,
           "gridcolor": "white",
           "linecolor": "white",
           "ticks": "",
           "title": {
            "standoff": 15
           },
           "zerolinecolor": "white",
           "zerolinewidth": 2
          },
          "yaxis": {
           "automargin": true,
           "gridcolor": "white",
           "linecolor": "white",
           "ticks": "",
           "title": {
            "standoff": 15
           },
           "zerolinecolor": "white",
           "zerolinewidth": 2
          }
         }
        },
        "xaxis": {
         "anchor": "y",
         "domain": [
          0.0,
          0.1388888888888889
         ],
         "title": {
          "text": "activation_1"
         }
        },
        "yaxis": {
         "anchor": "x",
         "domain": [
          0.0,
          1.0
         ],
         "title": {
          "text": "Objective Value"
         }
        },
        "xaxis2": {
         "anchor": "y2",
         "domain": [
          0.17222222222222222,
          0.3111111111111111
         ],
         "title": {
          "text": "epochs"
         }
        },
        "yaxis2": {
         "anchor": "x2",
         "domain": [
          0.0,
          1.0
         ],
         "matches": "y",
         "showticklabels": false
        },
        "xaxis3": {
         "anchor": "y3",
         "domain": [
          0.34444444444444444,
          0.48333333333333334
         ],
         "title": {
          "text": "layer_0"
         }
        },
        "yaxis3": {
         "anchor": "x3",
         "domain": [
          0.0,
          1.0
         ],
         "matches": "y",
         "showticklabels": false
        },
        "xaxis4": {
         "anchor": "y4",
         "domain": [
          0.5166666666666667,
          0.6555555555555557
         ],
         "title": {
          "text": "layer_1"
         }
        },
        "yaxis4": {
         "anchor": "x4",
         "domain": [
          0.0,
          1.0
         ],
         "matches": "y",
         "showticklabels": false
        },
        "xaxis5": {
         "anchor": "y5",
         "domain": [
          0.6888888888888889,
          0.8277777777777777
         ],
         "title": {
          "text": "layer_2"
         }
        },
        "yaxis5": {
         "anchor": "x5",
         "domain": [
          0.0,
          1.0
         ],
         "matches": "y",
         "showticklabels": false
        },
        "xaxis6": {
         "anchor": "y6",
         "domain": [
          0.861111111111111,
          1.0
         ],
         "title": {
          "text": "n_layers"
         }
        },
        "yaxis6": {
         "anchor": "x6",
         "domain": [
          0.0,
          1.0
         ],
         "matches": "y",
         "showticklabels": false
        },
        "title": {
         "text": "Slice Plot"
        },
        "width": 1800
       },
       "config": {
        "plotlyServerURL": "https://plot.ly"
       }
      },
      "text/html": "<div>                            <div id=\"477c2b7b-a954-4389-b8d9-d27395d521ee\" class=\"plotly-graph-div\" style=\"height:525px; width:1800px;\"></div>            <script type=\"text/javascript\">                require([\"plotly\"], function(Plotly) {                    window.PLOTLYENV=window.PLOTLYENV || {};                                    if (document.getElementById(\"477c2b7b-a954-4389-b8d9-d27395d521ee\")) {                    Plotly.newPlot(                        \"477c2b7b-a954-4389-b8d9-d27395d521ee\",                        [{\"marker\":{\"color\":[0,1,2,3,4,8,13,19,24,30,33,40,41,42,45,48,54,56,58,71,72,76,78,91,92,95],\"colorbar\":{\"title\":{\"text\":\"#Trials\"},\"x\":1.0,\"xpad\":40},\"colorscale\":[[0.0,\"rgb(247,251,255)\"],[0.125,\"rgb(222,235,247)\"],[0.25,\"rgb(198,219,239)\"],[0.375,\"rgb(158,202,225)\"],[0.5,\"rgb(107,174,214)\"],[0.625,\"rgb(66,146,198)\"],[0.75,\"rgb(33,113,181)\"],[0.875,\"rgb(8,81,156)\"],[1.0,\"rgb(8,48,107)\"]],\"line\":{\"color\":\"Grey\",\"width\":0.5},\"showscale\":true},\"mode\":\"markers\",\"showlegend\":false,\"x\":[\"relu\",\"linear\",\"relu\",\"tanh\",\"tanh\",\"linear\",\"tanh\",\"linear\",\"linear\",\"linear\",\"relu\",\"relu\",\"relu\",\"relu\",\"relu\",\"relu\",\"tanh\",\"tanh\",\"relu\",\"relu\",\"tanh\",\"tanh\",\"linear\",\"relu\",\"relu\",\"tanh\"],\"y\":[36093362176.0,36159287296.0,36094758912.0,36092338176.0,36093616128.0,36092248064.0,36094111744.0,36092477440.0,36092358656.0,36092321792.0,36092231680.0,36092317696.0,36092211200.0,36092399616.0,36092346368.0,36092489728.0,36092313600.0,36092346368.0,36093136896.0,36092354560.0,36092346368.0,36092305408.0,36092362752.0,36092354560.0,36092477440.0,36092387328.0],\"type\":\"scatter\",\"xaxis\":\"x\",\"yaxis\":\"y\"},{\"marker\":{\"color\":[0,1,2,3,4,8,13,19,24,30,33,40,41,42,45,48,54,56,58,71,72,76,78,91,92,95],\"colorbar\":{\"title\":{\"text\":\"#Trials\"},\"x\":1.0,\"xpad\":40},\"colorscale\":[[0.0,\"rgb(247,251,255)\"],[0.125,\"rgb(222,235,247)\"],[0.25,\"rgb(198,219,239)\"],[0.375,\"rgb(158,202,225)\"],[0.5,\"rgb(107,174,214)\"],[0.625,\"rgb(66,146,198)\"],[0.75,\"rgb(33,113,181)\"],[0.875,\"rgb(8,81,156)\"],[1.0,\"rgb(8,48,107)\"]],\"line\":{\"color\":\"Grey\",\"width\":0.5},\"showscale\":false},\"mode\":\"markers\",\"showlegend\":false,\"x\":[176,153,169,272,219,138,49,99,4,195,129,131,124,126,123,160,79,115,163,122,114,102,37,119,97,138],\"y\":[36093362176.0,36159287296.0,36094758912.0,36092338176.0,36093616128.0,36092248064.0,36094111744.0,36092477440.0,36092358656.0,36092321792.0,36092231680.0,36092317696.0,36092211200.0,36092399616.0,36092346368.0,36092489728.0,36092313600.0,36092346368.0,36093136896.0,36092354560.0,36092346368.0,36092305408.0,36092362752.0,36092354560.0,36092477440.0,36092387328.0],\"type\":\"scatter\",\"xaxis\":\"x2\",\"yaxis\":\"y2\"},{\"marker\":{\"color\":[0,1,2,3,4,8,13,19,24,30,33,40,41,42,45,48,54,56,58,71,72,76,78,91,92,95],\"colorbar\":{\"title\":{\"text\":\"#Trials\"},\"x\":1.0,\"xpad\":40},\"colorscale\":[[0.0,\"rgb(247,251,255)\"],[0.125,\"rgb(222,235,247)\"],[0.25,\"rgb(198,219,239)\"],[0.375,\"rgb(158,202,225)\"],[0.5,\"rgb(107,174,214)\"],[0.625,\"rgb(66,146,198)\"],[0.75,\"rgb(33,113,181)\"],[0.875,\"rgb(8,81,156)\"],[1.0,\"rgb(8,48,107)\"]],\"line\":{\"color\":\"Grey\",\"width\":0.5},\"showscale\":false},\"mode\":\"markers\",\"showlegend\":false,\"x\":[36,907,56,909,946,817,1010,823,658,931,904,172,242,135,137,194,979,907,837,154,909,936,960,58,122,1001],\"y\":[36093362176.0,36159287296.0,36094758912.0,36092338176.0,36093616128.0,36092248064.0,36094111744.0,36092477440.0,36092358656.0,36092321792.0,36092231680.0,36092317696.0,36092211200.0,36092399616.0,36092346368.0,36092489728.0,36092313600.0,36092346368.0,36093136896.0,36092354560.0,36092346368.0,36092305408.0,36092362752.0,36092354560.0,36092477440.0,36092387328.0],\"type\":\"scatter\",\"xaxis\":\"x3\",\"yaxis\":\"y3\"},{\"marker\":{\"color\":[0,1,2,3,4,8,13,19,24,30,33,40,41,42,45,48,54,56,58,71,72,76,78,91,92,95],\"colorbar\":{\"title\":{\"text\":\"#Trials\"},\"x\":1.0,\"xpad\":40},\"colorscale\":[[0.0,\"rgb(247,251,255)\"],[0.125,\"rgb(222,235,247)\"],[0.25,\"rgb(198,219,239)\"],[0.375,\"rgb(158,202,225)\"],[0.5,\"rgb(107,174,214)\"],[0.625,\"rgb(66,146,198)\"],[0.75,\"rgb(33,113,181)\"],[0.875,\"rgb(8,81,156)\"],[1.0,\"rgb(8,48,107)\"]],\"line\":{\"color\":\"Grey\",\"width\":0.5},\"showscale\":false},\"mode\":\"markers\",\"showlegend\":false,\"x\":[215,844,59,767,1002,397,716,49,849,593,380,153,157,153,19,387,649,646,99,46,657,634,281,214,87,648],\"y\":[36093362176.0,36159287296.0,36094758912.0,36092338176.0,36093616128.0,36092248064.0,36094111744.0,36092477440.0,36092358656.0,36092321792.0,36092231680.0,36092317696.0,36092211200.0,36092399616.0,36092346368.0,36092489728.0,36092313600.0,36092346368.0,36093136896.0,36092354560.0,36092346368.0,36092305408.0,36092362752.0,36092354560.0,36092477440.0,36092387328.0],\"type\":\"scatter\",\"xaxis\":\"x4\",\"yaxis\":\"y4\"},{\"marker\":{\"color\":[0,1,2,4,8,13,24,30,33,40,41,42,45,48,54,56,58,71,72,76,78,91,92,95],\"colorbar\":{\"title\":{\"text\":\"#Trials\"},\"x\":1.0,\"xpad\":40},\"colorscale\":[[0.0,\"rgb(247,251,255)\"],[0.125,\"rgb(222,235,247)\"],[0.25,\"rgb(198,219,239)\"],[0.375,\"rgb(158,202,225)\"],[0.5,\"rgb(107,174,214)\"],[0.625,\"rgb(66,146,198)\"],[0.75,\"rgb(33,113,181)\"],[0.875,\"rgb(8,81,156)\"],[1.0,\"rgb(8,48,107)\"]],\"line\":{\"color\":\"Grey\",\"width\":0.5},\"showscale\":false},\"mode\":\"markers\",\"showlegend\":false,\"x\":[977,476,627,605,416,20,412,124,334,476,482,513,667,648,721,764,689,674,799,747,495,785,660,474],\"y\":[36093362176.0,36159287296.0,36094758912.0,36093616128.0,36092248064.0,36094111744.0,36092358656.0,36092321792.0,36092231680.0,36092317696.0,36092211200.0,36092399616.0,36092346368.0,36092489728.0,36092313600.0,36092346368.0,36093136896.0,36092354560.0,36092346368.0,36092305408.0,36092362752.0,36092354560.0,36092477440.0,36092387328.0],\"type\":\"scatter\",\"xaxis\":\"x5\",\"yaxis\":\"y5\"},{\"marker\":{\"color\":[0,1,2,3,4,8,13,19,24,30,33,40,41,42,45,48,54,56,58,71,72,76,78,91,92,95],\"colorbar\":{\"title\":{\"text\":\"#Trials\"},\"x\":1.0,\"xpad\":40},\"colorscale\":[[0.0,\"rgb(247,251,255)\"],[0.125,\"rgb(222,235,247)\"],[0.25,\"rgb(198,219,239)\"],[0.375,\"rgb(158,202,225)\"],[0.5,\"rgb(107,174,214)\"],[0.625,\"rgb(66,146,198)\"],[0.75,\"rgb(33,113,181)\"],[0.875,\"rgb(8,81,156)\"],[1.0,\"rgb(8,48,107)\"]],\"line\":{\"color\":\"Grey\",\"width\":0.5},\"showscale\":false},\"mode\":\"markers\",\"showlegend\":false,\"x\":[8,3,8,2,4,4,5,2,4,4,5,6,6,7,8,5,3,4,6,8,4,5,6,8,9,4],\"y\":[36093362176.0,36159287296.0,36094758912.0,36092338176.0,36093616128.0,36092248064.0,36094111744.0,36092477440.0,36092358656.0,36092321792.0,36092231680.0,36092317696.0,36092211200.0,36092399616.0,36092346368.0,36092489728.0,36092313600.0,36092346368.0,36093136896.0,36092354560.0,36092346368.0,36092305408.0,36092362752.0,36092354560.0,36092477440.0,36092387328.0],\"type\":\"scatter\",\"xaxis\":\"x6\",\"yaxis\":\"y6\"}],                        {\"template\":{\"data\":{\"bar\":[{\"error_x\":{\"color\":\"#2a3f5f\"},\"error_y\":{\"color\":\"#2a3f5f\"},\"marker\":{\"line\":{\"color\":\"#E5ECF6\",\"width\":0.5},\"pattern\":{\"fillmode\":\"overlay\",\"size\":10,\"solidity\":0.2}},\"type\":\"bar\"}],\"barpolar\":[{\"marker\":{\"line\":{\"color\":\"#E5ECF6\",\"width\":0.5},\"pattern\":{\"fillmode\":\"overlay\",\"size\":10,\"solidity\":0.2}},\"type\":\"barpolar\"}],\"carpet\":[{\"aaxis\":{\"endlinecolor\":\"#2a3f5f\",\"gridcolor\":\"white\",\"linecolor\":\"white\",\"minorgridcolor\":\"white\",\"startlinecolor\":\"#2a3f5f\"},\"baxis\":{\"endlinecolor\":\"#2a3f5f\",\"gridcolor\":\"white\",\"linecolor\":\"white\",\"minorgridcolor\":\"white\",\"startlinecolor\":\"#2a3f5f\"},\"type\":\"carpet\"}],\"choropleth\":[{\"colorbar\":{\"outlinewidth\":0,\"ticks\":\"\"},\"type\":\"choropleth\"}],\"contour\":[{\"colorbar\":{\"outlinewidth\":0,\"ticks\":\"\"},\"colorscale\":[[0.0,\"#0d0887\"],[0.1111111111111111,\"#46039f\"],[0.2222222222222222,\"#7201a8\"],[0.3333333333333333,\"#9c179e\"],[0.4444444444444444,\"#bd3786\"],[0.5555555555555556,\"#d8576b\"],[0.6666666666666666,\"#ed7953\"],[0.7777777777777778,\"#fb9f3a\"],[0.8888888888888888,\"#fdca26\"],[1.0,\"#f0f921\"]],\"type\":\"contour\"}],\"contourcarpet\":[{\"colorbar\":{\"outlinewidth\":0,\"ticks\":\"\"},\"type\":\"contourcarpet\"}],\"heatmap\":[{\"colorbar\":{\"outlinewidth\":0,\"ticks\":\"\"},\"colorscale\":[[0.0,\"#0d0887\"],[0.1111111111111111,\"#46039f\"],[0.2222222222222222,\"#7201a8\"],[0.3333333333333333,\"#9c179e\"],[0.4444444444444444,\"#bd3786\"],[0.5555555555555556,\"#d8576b\"],[0.6666666666666666,\"#ed7953\"],[0.7777777777777778,\"#fb9f3a\"],[0.8888888888888888,\"#fdca26\"],[1.0,\"#f0f921\"]],\"type\":\"heatmap\"}],\"heatmapgl\":[{\"colorbar\":{\"outlinewidth\":0,\"ticks\":\"\"},\"colorscale\":[[0.0,\"#0d0887\"],[0.1111111111111111,\"#46039f\"],[0.2222222222222222,\"#7201a8\"],[0.3333333333333333,\"#9c179e\"],[0.4444444444444444,\"#bd3786\"],[0.5555555555555556,\"#d8576b\"],[0.6666666666666666,\"#ed7953\"],[0.7777777777777778,\"#fb9f3a\"],[0.8888888888888888,\"#fdca26\"],[1.0,\"#f0f921\"]],\"type\":\"heatmapgl\"}],\"histogram\":[{\"marker\":{\"pattern\":{\"fillmode\":\"overlay\",\"size\":10,\"solidity\":0.2}},\"type\":\"histogram\"}],\"histogram2d\":[{\"colorbar\":{\"outlinewidth\":0,\"ticks\":\"\"},\"colorscale\":[[0.0,\"#0d0887\"],[0.1111111111111111,\"#46039f\"],[0.2222222222222222,\"#7201a8\"],[0.3333333333333333,\"#9c179e\"],[0.4444444444444444,\"#bd3786\"],[0.5555555555555556,\"#d8576b\"],[0.6666666666666666,\"#ed7953\"],[0.7777777777777778,\"#fb9f3a\"],[0.8888888888888888,\"#fdca26\"],[1.0,\"#f0f921\"]],\"type\":\"histogram2d\"}],\"histogram2dcontour\":[{\"colorbar\":{\"outlinewidth\":0,\"ticks\":\"\"},\"colorscale\":[[0.0,\"#0d0887\"],[0.1111111111111111,\"#46039f\"],[0.2222222222222222,\"#7201a8\"],[0.3333333333333333,\"#9c179e\"],[0.4444444444444444,\"#bd3786\"],[0.5555555555555556,\"#d8576b\"],[0.6666666666666666,\"#ed7953\"],[0.7777777777777778,\"#fb9f3a\"],[0.8888888888888888,\"#fdca26\"],[1.0,\"#f0f921\"]],\"type\":\"histogram2dcontour\"}],\"mesh3d\":[{\"colorbar\":{\"outlinewidth\":0,\"ticks\":\"\"},\"type\":\"mesh3d\"}],\"parcoords\":[{\"line\":{\"colorbar\":{\"outlinewidth\":0,\"ticks\":\"\"}},\"type\":\"parcoords\"}],\"pie\":[{\"automargin\":true,\"type\":\"pie\"}],\"scatter\":[{\"marker\":{\"colorbar\":{\"outlinewidth\":0,\"ticks\":\"\"}},\"type\":\"scatter\"}],\"scatter3d\":[{\"line\":{\"colorbar\":{\"outlinewidth\":0,\"ticks\":\"\"}},\"marker\":{\"colorbar\":{\"outlinewidth\":0,\"ticks\":\"\"}},\"type\":\"scatter3d\"}],\"scattercarpet\":[{\"marker\":{\"colorbar\":{\"outlinewidth\":0,\"ticks\":\"\"}},\"type\":\"scattercarpet\"}],\"scattergeo\":[{\"marker\":{\"colorbar\":{\"outlinewidth\":0,\"ticks\":\"\"}},\"type\":\"scattergeo\"}],\"scattergl\":[{\"marker\":{\"colorbar\":{\"outlinewidth\":0,\"ticks\":\"\"}},\"type\":\"scattergl\"}],\"scattermapbox\":[{\"marker\":{\"colorbar\":{\"outlinewidth\":0,\"ticks\":\"\"}},\"type\":\"scattermapbox\"}],\"scatterpolar\":[{\"marker\":{\"colorbar\":{\"outlinewidth\":0,\"ticks\":\"\"}},\"type\":\"scatterpolar\"}],\"scatterpolargl\":[{\"marker\":{\"colorbar\":{\"outlinewidth\":0,\"ticks\":\"\"}},\"type\":\"scatterpolargl\"}],\"scatterternary\":[{\"marker\":{\"colorbar\":{\"outlinewidth\":0,\"ticks\":\"\"}},\"type\":\"scatterternary\"}],\"surface\":[{\"colorbar\":{\"outlinewidth\":0,\"ticks\":\"\"},\"colorscale\":[[0.0,\"#0d0887\"],[0.1111111111111111,\"#46039f\"],[0.2222222222222222,\"#7201a8\"],[0.3333333333333333,\"#9c179e\"],[0.4444444444444444,\"#bd3786\"],[0.5555555555555556,\"#d8576b\"],[0.6666666666666666,\"#ed7953\"],[0.7777777777777778,\"#fb9f3a\"],[0.8888888888888888,\"#fdca26\"],[1.0,\"#f0f921\"]],\"type\":\"surface\"}],\"table\":[{\"cells\":{\"fill\":{\"color\":\"#EBF0F8\"},\"line\":{\"color\":\"white\"}},\"header\":{\"fill\":{\"color\":\"#C8D4E3\"},\"line\":{\"color\":\"white\"}},\"type\":\"table\"}]},\"layout\":{\"annotationdefaults\":{\"arrowcolor\":\"#2a3f5f\",\"arrowhead\":0,\"arrowwidth\":1},\"autotypenumbers\":\"strict\",\"coloraxis\":{\"colorbar\":{\"outlinewidth\":0,\"ticks\":\"\"}},\"colorscale\":{\"diverging\":[[0,\"#8e0152\"],[0.1,\"#c51b7d\"],[0.2,\"#de77ae\"],[0.3,\"#f1b6da\"],[0.4,\"#fde0ef\"],[0.5,\"#f7f7f7\"],[0.6,\"#e6f5d0\"],[0.7,\"#b8e186\"],[0.8,\"#7fbc41\"],[0.9,\"#4d9221\"],[1,\"#276419\"]],\"sequential\":[[0.0,\"#0d0887\"],[0.1111111111111111,\"#46039f\"],[0.2222222222222222,\"#7201a8\"],[0.3333333333333333,\"#9c179e\"],[0.4444444444444444,\"#bd3786\"],[0.5555555555555556,\"#d8576b\"],[0.6666666666666666,\"#ed7953\"],[0.7777777777777778,\"#fb9f3a\"],[0.8888888888888888,\"#fdca26\"],[1.0,\"#f0f921\"]],\"sequentialminus\":[[0.0,\"#0d0887\"],[0.1111111111111111,\"#46039f\"],[0.2222222222222222,\"#7201a8\"],[0.3333333333333333,\"#9c179e\"],[0.4444444444444444,\"#bd3786\"],[0.5555555555555556,\"#d8576b\"],[0.6666666666666666,\"#ed7953\"],[0.7777777777777778,\"#fb9f3a\"],[0.8888888888888888,\"#fdca26\"],[1.0,\"#f0f921\"]]},\"colorway\":[\"#636efa\",\"#EF553B\",\"#00cc96\",\"#ab63fa\",\"#FFA15A\",\"#19d3f3\",\"#FF6692\",\"#B6E880\",\"#FF97FF\",\"#FECB52\"],\"font\":{\"color\":\"#2a3f5f\"},\"geo\":{\"bgcolor\":\"white\",\"lakecolor\":\"white\",\"landcolor\":\"#E5ECF6\",\"showlakes\":true,\"showland\":true,\"subunitcolor\":\"white\"},\"hoverlabel\":{\"align\":\"left\"},\"hovermode\":\"closest\",\"mapbox\":{\"style\":\"light\"},\"paper_bgcolor\":\"white\",\"plot_bgcolor\":\"#E5ECF6\",\"polar\":{\"angularaxis\":{\"gridcolor\":\"white\",\"linecolor\":\"white\",\"ticks\":\"\"},\"bgcolor\":\"#E5ECF6\",\"radialaxis\":{\"gridcolor\":\"white\",\"linecolor\":\"white\",\"ticks\":\"\"}},\"scene\":{\"xaxis\":{\"backgroundcolor\":\"#E5ECF6\",\"gridcolor\":\"white\",\"gridwidth\":2,\"linecolor\":\"white\",\"showbackground\":true,\"ticks\":\"\",\"zerolinecolor\":\"white\"},\"yaxis\":{\"backgroundcolor\":\"#E5ECF6\",\"gridcolor\":\"white\",\"gridwidth\":2,\"linecolor\":\"white\",\"showbackground\":true,\"ticks\":\"\",\"zerolinecolor\":\"white\"},\"zaxis\":{\"backgroundcolor\":\"#E5ECF6\",\"gridcolor\":\"white\",\"gridwidth\":2,\"linecolor\":\"white\",\"showbackground\":true,\"ticks\":\"\",\"zerolinecolor\":\"white\"}},\"shapedefaults\":{\"line\":{\"color\":\"#2a3f5f\"}},\"ternary\":{\"aaxis\":{\"gridcolor\":\"white\",\"linecolor\":\"white\",\"ticks\":\"\"},\"baxis\":{\"gridcolor\":\"white\",\"linecolor\":\"white\",\"ticks\":\"\"},\"bgcolor\":\"#E5ECF6\",\"caxis\":{\"gridcolor\":\"white\",\"linecolor\":\"white\",\"ticks\":\"\"}},\"title\":{\"x\":0.05},\"xaxis\":{\"automargin\":true,\"gridcolor\":\"white\",\"linecolor\":\"white\",\"ticks\":\"\",\"title\":{\"standoff\":15},\"zerolinecolor\":\"white\",\"zerolinewidth\":2},\"yaxis\":{\"automargin\":true,\"gridcolor\":\"white\",\"linecolor\":\"white\",\"ticks\":\"\",\"title\":{\"standoff\":15},\"zerolinecolor\":\"white\",\"zerolinewidth\":2}}},\"xaxis\":{\"anchor\":\"y\",\"domain\":[0.0,0.1388888888888889],\"title\":{\"text\":\"activation_1\"}},\"yaxis\":{\"anchor\":\"x\",\"domain\":[0.0,1.0],\"title\":{\"text\":\"Objective Value\"}},\"xaxis2\":{\"anchor\":\"y2\",\"domain\":[0.17222222222222222,0.3111111111111111],\"title\":{\"text\":\"epochs\"}},\"yaxis2\":{\"anchor\":\"x2\",\"domain\":[0.0,1.0],\"matches\":\"y\",\"showticklabels\":false},\"xaxis3\":{\"anchor\":\"y3\",\"domain\":[0.34444444444444444,0.48333333333333334],\"title\":{\"text\":\"layer_0\"}},\"yaxis3\":{\"anchor\":\"x3\",\"domain\":[0.0,1.0],\"matches\":\"y\",\"showticklabels\":false},\"xaxis4\":{\"anchor\":\"y4\",\"domain\":[0.5166666666666667,0.6555555555555557],\"title\":{\"text\":\"layer_1\"}},\"yaxis4\":{\"anchor\":\"x4\",\"domain\":[0.0,1.0],\"matches\":\"y\",\"showticklabels\":false},\"xaxis5\":{\"anchor\":\"y5\",\"domain\":[0.6888888888888889,0.8277777777777777],\"title\":{\"text\":\"layer_2\"}},\"yaxis5\":{\"anchor\":\"x5\",\"domain\":[0.0,1.0],\"matches\":\"y\",\"showticklabels\":false},\"xaxis6\":{\"anchor\":\"y6\",\"domain\":[0.861111111111111,1.0],\"title\":{\"text\":\"n_layers\"}},\"yaxis6\":{\"anchor\":\"x6\",\"domain\":[0.0,1.0],\"matches\":\"y\",\"showticklabels\":false},\"title\":{\"text\":\"Slice Plot\"},\"width\":1800},                        {\"responsive\": true}                    ).then(function(){\n                            \nvar gd = document.getElementById('477c2b7b-a954-4389-b8d9-d27395d521ee');\nvar x = new MutationObserver(function (mutations, observer) {{\n        var display = window.getComputedStyle(gd).display;\n        if (!display || display === 'none') {{\n            console.log([gd, 'removed!']);\n            Plotly.purge(gd);\n            observer.disconnect();\n        }}\n}});\n\n// Listen for the removal of the full notebook cells\nvar notebookContainer = gd.closest('#notebook-container');\nif (notebookContainer) {{\n    x.observe(notebookContainer, {childList: true});\n}}\n\n// Listen for the clearing of the current output cell\nvar outputEl = gd.closest('.output');\nif (outputEl) {{\n    x.observe(outputEl, {childList: true});\n}}\n\n                        })                };                });            </script>        </div>"
     },
     "metadata": {},
     "output_type": "display_data"
    }
   ],
   "source": [
    "plot_slice(study, [\"layer_0\", \"layer_1\", \"layer_2\", \"n_layers\", \"epochs\", \"activation_1\"])"
   ],
   "metadata": {
    "collapsed": false,
    "pycharm": {
     "name": "#%%\n"
    }
   }
  },
  {
   "cell_type": "markdown",
   "source": [
    "We can view the best trial with `study.best_trial` and `study.best_params`. To load the trial, we have to access our logs and load the network with these parameters."
   ],
   "metadata": {
    "collapsed": false
   }
  },
  {
   "cell_type": "code",
   "execution_count": 117,
   "outputs": [
    {
     "name": "stdout",
     "output_type": "stream",
     "text": [
      "36092211200.0\n"
     ]
    },
    {
     "data": {
      "text/plain": "{'n_layers': 6,\n 'layer_0': 242,\n 'activation_0': 'relu',\n 'dropout_l0': 0.10359288564510727,\n 'layer_1': 157,\n 'activation_1': 'relu',\n 'dropout_l1': 0.1763777378855086,\n 'layer_2': 482,\n 'activation_2': 'relu',\n 'dropout_l2': 0.45285103548806827,\n 'layer_3': 493,\n 'activation_3': 'tanh',\n 'dropout_l3': 0.11917891003150101,\n 'layer_4': 403,\n 'activation_4': 'linear',\n 'dropout_l4': 0.4653187381634932,\n 'layer_5': 187,\n 'activation_5': 'relu',\n 'dropout_l5': 0.12813268247518356,\n 'optimizer': 'RMSprop',\n 'rmsprop_lr': 0.005058843190771526,\n 'rmsprop_decay': 0.9360055719915432,\n 'rmsprop_momentum': 0.012415987431436591,\n 'epochs': 124,\n 'batch_size': 93}"
     },
     "execution_count": 117,
     "metadata": {},
     "output_type": "execute_result"
    },
    {
     "name": "stdout",
     "output_type": "stream",
     "text": [
      "ERROR! Session/line number was not unique in database. History logging moved to new session 166\n"
     ]
    }
   ],
   "source": [
    "print(study.best_value)\n",
    "study.best_params"
   ],
   "metadata": {
    "collapsed": false,
    "pycharm": {
     "name": "#%%\n"
    }
   }
  },
  {
   "cell_type": "code",
   "execution_count": 115,
   "outputs": [],
   "source": [
    "best_model = keras.models.load_model(\n",
    "    get_log_dir() / f'{study.best_trial.number}--{study.best_trial.datetime_start.strftime(\"%d-%m-%H-%M\")}' / \"best.hdf5\",\n",
    "    custom_objects={\"rmsle\": rmsle})"
   ],
   "metadata": {
    "collapsed": false,
    "pycharm": {
     "name": "#%%\n"
    }
   }
  },
  {
   "cell_type": "markdown",
   "source": [
    "To predict a single value in our pandas dataframe, we have to convert it to an (1,-1) ndarray first"
   ],
   "metadata": {
    "collapsed": false
   }
  },
  {
   "cell_type": "code",
   "execution_count": 116,
   "outputs": [
    {
     "data": {
      "text/plain": "array([[11.713863]], dtype=float32)"
     },
     "execution_count": 116,
     "metadata": {},
     "output_type": "execute_result"
    }
   ],
   "source": [
    "best_model.predict(x_test.iloc[1].to_numpy().reshape(1, -1))"
   ],
   "metadata": {
    "collapsed": false,
    "pycharm": {
     "name": "#%%\n"
    }
   }
  },
  {
   "cell_type": "markdown",
   "source": [
    "We'll use our utility function `create_submission` to create the csv that we want to upload"
   ],
   "metadata": {
    "collapsed": false
   }
  },
  {
   "cell_type": "code",
   "execution_count": null,
   "outputs": [],
   "source": [
    "create_submission(best_model, \"test\")"
   ],
   "metadata": {
    "collapsed": false,
    "pycharm": {
     "name": "#%%\n",
     "is_executing": true
    }
   }
  }
 ],
 "metadata": {
  "kernelspec": {
   "display_name": "Python 3",
   "language": "python",
   "name": "python3"
  },
  "language_info": {
   "codemirror_mode": {
    "name": "ipython",
    "version": 2
   },
   "file_extension": ".py",
   "mimetype": "text/x-python",
   "name": "python",
   "nbconvert_exporter": "python",
   "pygments_lexer": "ipython2",
   "version": "2.7.6"
  }
 },
 "nbformat": 4,
 "nbformat_minor": 0
}