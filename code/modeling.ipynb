{
 "cells": [
  {
   "cell_type": "markdown",
   "source": [
    "# Data Modeling\n",
    "lets use the cleaned up data to try and predict house prices!\n",
    "We'll build the following models:\n",
    " - An XGBoost model\n",
    " - A simple feed-forward network with Keras\n",
    " - An optimized feed-forward network with Keras and optuna"
   ],
   "metadata": {
    "collapsed": false
   }
  },
  {
   "cell_type": "code",
   "execution_count": 1,
   "outputs": [],
   "source": [
    "%load_ext autoreload\n",
    "%autoreload 2\n",
    "import datetime\n",
    "import numpy as np\n",
    "import pandas as pd\n",
    "import optuna\n",
    "from keras import backend as K\n",
    "from optuna.integration import TFKerasPruningCallback\n",
    "from keras.callbacks import ModelCheckpoint\n",
    "\n",
    "# mute output to declutter notebook\n",
    "from tensorflow import keras\n",
    "import wandb\n",
    "from wandb.integration.keras import WandbCallback\n",
    "import os\n",
    "\n",
    "os.environ[\"WANDB_SILENT\"] = \"True\"\n",
    "\n",
    "optuna.logging.set_verbosity(optuna.logging.WARNING)\n",
    "from optuna.visualization import plot_optimization_history, plot_slice, plot_param_importances\n",
    "from utils.utils import get_log_dir, get_project_root, create_submission"
   ],
   "metadata": {
    "collapsed": false,
    "pycharm": {
     "name": "#%%\n"
    }
   }
  },
  {
   "cell_type": "markdown",
   "source": [
    "We'll load the data from our HDF. Since the Dataset has no real validation set, we will split the training set and use 10% as our validation set."
   ],
   "metadata": {
    "collapsed": false
   }
  },
  {
   "cell_type": "code",
   "execution_count": 2,
   "outputs": [],
   "source": [
    "# set WandB variables\n",
    "WANDB_ENTITY = \"fogx\" # change these to upload data to your WandB account\n",
    "WANDB_PROJECT = \"kaggle-house-prices\"\n",
    "WANDB_GROUP = \"simple_ffn\""
   ],
   "metadata": {
    "collapsed": false,
    "pycharm": {
     "name": "#%%\n"
    }
   }
  },
  {
   "cell_type": "code",
   "execution_count": 3,
   "metadata": {
    "collapsed": true
   },
   "outputs": [],
   "source": [
    "# load the data from the preprocessed h5 file\n",
    "with pd.HDFStore((get_project_root() / \"data/formatted/dataset_clean.h5\").as_posix()) as store:\n",
    "    x_train = store[\"x_train\"]\n",
    "    y_train = store[\"y_train\"]\n",
    "    x_test = store[\"x_test\"]\n",
    "\n",
    "x_val = x_train[round(len(x_train) * 0.9):]\n",
    "x_train = x_train[:round(len(x_train) * 0.9)]\n",
    "y_val = y_train[round(len(y_train) * 0.9):]\n",
    "y_train = y_train[:round(len(y_train) * 0.9)]\n",
    "\n",
    "# create log targets\n",
    "y_train_log = np.log(y_train)\n",
    "y_val_log = np.log(y_val)"
   ]
  },
  {
   "cell_type": "markdown",
   "source": [
    "## Building Models\n",
    "### 1. XGBoost\n",
    "TODO"
   ],
   "metadata": {
    "collapsed": false
   }
  },
  {
   "cell_type": "markdown",
   "source": [
    "### 2. Simple FFN Network with Keras\n",
    "\n",
    "We want to use root mean squared error as our loss function. This loss function doesn't exist in Keras, so we'll write it ourselves.\n",
    "To track our progress, we'll use weights & biases and save the best model in a log folder, so we can recover them quickly"
   ],
   "metadata": {
    "collapsed": false
   }
  },
  {
   "cell_type": "code",
   "execution_count": 4,
   "outputs": [],
   "source": [
    "def rmsle(y_pred, y_true):\n",
    "    return K.sqrt(K.mean(K.square(K.log(float(y_pred + 1)) - K.log(float(y_true + 1)))))"
   ],
   "metadata": {
    "collapsed": false,
    "pycharm": {
     "name": "#%%\n"
    }
   }
  },
  {
   "cell_type": "code",
   "execution_count": 5,
   "outputs": [],
   "source": [
    "metrics = [\"msle\", rmsle]"
   ],
   "metadata": {
    "collapsed": false,
    "pycharm": {
     "name": "#%%\n"
    }
   }
  },
  {
   "cell_type": "code",
   "execution_count": 6,
   "outputs": [],
   "source": [
    "def simple_ffn(X, Y, validation_data):\n",
    "    # build the model\n",
    "    model = keras.Sequential(\n",
    "        [\n",
    "            keras.layers.Input(shape=(len(X.columns),)),\n",
    "            keras.layers.Dense(units=1000, activation=\"relu\"),\n",
    "            keras.layers.Dense(units=1000, activation=\"relu\"),\n",
    "            keras.layers.Dense(units=100, activation=\"relu\"),\n",
    "            keras.layers.Dense(units=10, activation=\"relu\"),\n",
    "            keras.layers.Dense(units=1),\n",
    "        ])\n",
    "    logs = get_log_dir() / datetime.datetime.now().strftime(\"%d-%m-%Y--%H-%M-%S\")\n",
    "    # create folder to save models at\n",
    "    logs.mkdir(parents=True, exist_ok=True)\n",
    "    best_model_path = logs / \"best.hdf5\"\n",
    "    # save the best model, so we can compare the best, not the latest at the end.\n",
    "    callbacks = [keras.callbacks.ModelCheckpoint(\n",
    "        filepath=best_model_path.as_posix(),\n",
    "        monitor=\"val_rmsle\",\n",
    "        mode=\"min\",\n",
    "        save_best_only=True,\n",
    "        verbose=False\n",
    "    )]\n",
    "    opt = keras.optimizers.Adam()\n",
    "    model.compile(optimizer=opt,\n",
    "                  loss=rmsle,\n",
    "                  metrics=metrics)\n",
    "    wandb.init(project=\"kaggle-house-prices\", group=\"simple_ffn\", entity=\"fogx\")\n",
    "    callbacks.append(WandbCallback())\n",
    "    model.fit(X, Y,\n",
    "              epochs=100,\n",
    "              validation_data=validation_data,\n",
    "              verbose=1,\n",
    "              callbacks=callbacks)\n",
    "    wandb.finish()\n",
    "    try:\n",
    "        # load the best weights after training.\n",
    "        model.load_weights(best_model_path)\n",
    "    except FileNotFoundError:\n",
    "        # if the model didn't improve just use the original\n",
    "        pass\n",
    "    return model"
   ],
   "metadata": {
    "collapsed": false,
    "pycharm": {
     "name": "#%%\n"
    }
   }
  },
  {
   "cell_type": "code",
   "execution_count": 7,
   "outputs": [
    {
     "name": "stdout",
     "output_type": "stream",
     "text": [
      "Epoch 1/100\n",
      "42/42 [==============================] - 4s 53ms/step - loss: nan - msle: nan - rmsle: nan - val_loss: nan - val_msle: nan - val_rmsle: nan\n",
      "Epoch 2/100\n",
      "42/42 [==============================] - 1s 31ms/step - loss: nan - msle: nan - rmsle: nan - val_loss: nan - val_msle: nan - val_rmsle: nan\n",
      "Epoch 3/100\n",
      "42/42 [==============================] - 2s 36ms/step - loss: nan - msle: nan - rmsle: nan - val_loss: nan - val_msle: nan - val_rmsle: nan\n",
      "Epoch 4/100\n",
      "42/42 [==============================] - 1s 32ms/step - loss: nan - msle: nan - rmsle: nan - val_loss: nan - val_msle: nan - val_rmsle: nan\n",
      "Epoch 5/100\n",
      "42/42 [==============================] - 1s 32ms/step - loss: nan - msle: nan - rmsle: nan - val_loss: nan - val_msle: nan - val_rmsle: nan\n",
      "Epoch 6/100\n",
      "42/42 [==============================] - 1s 33ms/step - loss: nan - msle: nan - rmsle: nan - val_loss: nan - val_msle: nan - val_rmsle: nan\n",
      "Epoch 7/100\n",
      "42/42 [==============================] - 1s 33ms/step - loss: nan - msle: nan - rmsle: nan - val_loss: nan - val_msle: nan - val_rmsle: nan\n",
      "Epoch 8/100\n",
      "42/42 [==============================] - 2s 44ms/step - loss: nan - msle: nan - rmsle: nan - val_loss: nan - val_msle: nan - val_rmsle: nan\n",
      "Epoch 9/100\n",
      "42/42 [==============================] - 1s 34ms/step - loss: nan - msle: nan - rmsle: nan - val_loss: nan - val_msle: nan - val_rmsle: nan\n",
      "Epoch 10/100\n",
      "42/42 [==============================] - 1s 31ms/step - loss: nan - msle: nan - rmsle: nan - val_loss: nan - val_msle: nan - val_rmsle: nan\n",
      "Epoch 11/100\n",
      "42/42 [==============================] - 1s 34ms/step - loss: nan - msle: nan - rmsle: nan - val_loss: nan - val_msle: nan - val_rmsle: nan\n",
      "Epoch 12/100\n",
      "42/42 [==============================] - 2s 37ms/step - loss: nan - msle: nan - rmsle: nan - val_loss: nan - val_msle: nan - val_rmsle: nan\n",
      "Epoch 13/100\n",
      "42/42 [==============================] - 1s 30ms/step - loss: nan - msle: nan - rmsle: nan - val_loss: nan - val_msle: nan - val_rmsle: nan\n",
      "Epoch 14/100\n",
      "42/42 [==============================] - 1s 34ms/step - loss: nan - msle: nan - rmsle: nan - val_loss: nan - val_msle: nan - val_rmsle: nan\n",
      "Epoch 15/100\n",
      "42/42 [==============================] - 1s 31ms/step - loss: nan - msle: nan - rmsle: nan - val_loss: nan - val_msle: nan - val_rmsle: nan\n",
      "Epoch 16/100\n",
      "42/42 [==============================] - 1s 33ms/step - loss: nan - msle: nan - rmsle: nan - val_loss: nan - val_msle: nan - val_rmsle: nan\n",
      "Epoch 17/100\n",
      "42/42 [==============================] - 1s 31ms/step - loss: nan - msle: nan - rmsle: nan - val_loss: nan - val_msle: nan - val_rmsle: nan\n",
      "Epoch 18/100\n",
      "42/42 [==============================] - 1s 30ms/step - loss: nan - msle: nan - rmsle: nan - val_loss: nan - val_msle: nan - val_rmsle: nan\n",
      "Epoch 19/100\n",
      "42/42 [==============================] - 1s 30ms/step - loss: nan - msle: nan - rmsle: nan - val_loss: nan - val_msle: nan - val_rmsle: nan\n",
      "Epoch 20/100\n",
      "42/42 [==============================] - 1s 31ms/step - loss: nan - msle: nan - rmsle: nan - val_loss: nan - val_msle: nan - val_rmsle: nan\n",
      "Epoch 21/100\n",
      "42/42 [==============================] - 1s 32ms/step - loss: nan - msle: nan - rmsle: nan - val_loss: nan - val_msle: nan - val_rmsle: nan\n",
      "Epoch 22/100\n",
      "42/42 [==============================] - 1s 31ms/step - loss: nan - msle: nan - rmsle: nan - val_loss: nan - val_msle: nan - val_rmsle: nan\n",
      "Epoch 23/100\n",
      "42/42 [==============================] - 1s 31ms/step - loss: nan - msle: nan - rmsle: nan - val_loss: nan - val_msle: nan - val_rmsle: nan\n",
      "Epoch 24/100\n",
      "42/42 [==============================] - 2s 41ms/step - loss: nan - msle: nan - rmsle: nan - val_loss: nan - val_msle: nan - val_rmsle: nan\n",
      "Epoch 25/100\n",
      "42/42 [==============================] - 2s 39ms/step - loss: nan - msle: nan - rmsle: nan - val_loss: nan - val_msle: nan - val_rmsle: nan\n",
      "Epoch 26/100\n",
      "42/42 [==============================] - 2s 37ms/step - loss: nan - msle: nan - rmsle: nan - val_loss: nan - val_msle: nan - val_rmsle: nan\n",
      "Epoch 27/100\n",
      "42/42 [==============================] - 1s 31ms/step - loss: nan - msle: nan - rmsle: nan - val_loss: nan - val_msle: nan - val_rmsle: nan\n",
      "Epoch 28/100\n",
      "42/42 [==============================] - 1s 30ms/step - loss: nan - msle: nan - rmsle: nan - val_loss: nan - val_msle: nan - val_rmsle: nan\n",
      "Epoch 29/100\n",
      "42/42 [==============================] - 1s 36ms/step - loss: nan - msle: nan - rmsle: nan - val_loss: nan - val_msle: nan - val_rmsle: nan\n",
      "Epoch 30/100\n",
      "42/42 [==============================] - 1s 30ms/step - loss: nan - msle: nan - rmsle: nan - val_loss: nan - val_msle: nan - val_rmsle: nan\n",
      "Epoch 31/100\n",
      "42/42 [==============================] - 1s 31ms/step - loss: nan - msle: nan - rmsle: nan - val_loss: nan - val_msle: nan - val_rmsle: nan\n",
      "Epoch 32/100\n",
      "42/42 [==============================] - 1s 31ms/step - loss: nan - msle: nan - rmsle: nan - val_loss: nan - val_msle: nan - val_rmsle: nan\n",
      "Epoch 33/100\n",
      "42/42 [==============================] - 1s 34ms/step - loss: nan - msle: nan - rmsle: nan - val_loss: nan - val_msle: nan - val_rmsle: nan\n",
      "Epoch 34/100\n",
      "42/42 [==============================] - 1s 23ms/step - loss: nan - msle: nan - rmsle: nan - val_loss: nan - val_msle: nan - val_rmsle: nan\n",
      "Epoch 35/100\n",
      "42/42 [==============================] - 1s 23ms/step - loss: nan - msle: nan - rmsle: nan - val_loss: nan - val_msle: nan - val_rmsle: nan\n",
      "Epoch 36/100\n",
      "42/42 [==============================] - 1s 18ms/step - loss: nan - msle: nan - rmsle: nan - val_loss: nan - val_msle: nan - val_rmsle: nan\n",
      "Epoch 37/100\n",
      "42/42 [==============================] - 1s 20ms/step - loss: nan - msle: nan - rmsle: nan - val_loss: nan - val_msle: nan - val_rmsle: nan\n",
      "Epoch 38/100\n",
      "42/42 [==============================] - 1s 22ms/step - loss: nan - msle: nan - rmsle: nan - val_loss: nan - val_msle: nan - val_rmsle: nan\n",
      "Epoch 39/100\n",
      "42/42 [==============================] - 1s 24ms/step - loss: nan - msle: nan - rmsle: nan - val_loss: nan - val_msle: nan - val_rmsle: nan\n",
      "Epoch 40/100\n",
      "42/42 [==============================] - 1s 21ms/step - loss: nan - msle: nan - rmsle: nan - val_loss: nan - val_msle: nan - val_rmsle: nan\n",
      "Epoch 41/100\n",
      "42/42 [==============================] - 1s 19ms/step - loss: nan - msle: nan - rmsle: nan - val_loss: nan - val_msle: nan - val_rmsle: nan\n",
      "Epoch 42/100\n",
      "42/42 [==============================] - 1s 21ms/step - loss: nan - msle: nan - rmsle: nan - val_loss: nan - val_msle: nan - val_rmsle: nan\n",
      "Epoch 43/100\n",
      "42/42 [==============================] - 1s 17ms/step - loss: nan - msle: nan - rmsle: nan - val_loss: nan - val_msle: nan - val_rmsle: nan\n",
      "Epoch 44/100\n",
      "42/42 [==============================] - 1s 17ms/step - loss: nan - msle: nan - rmsle: nan - val_loss: nan - val_msle: nan - val_rmsle: nan\n",
      "Epoch 45/100\n",
      "42/42 [==============================] - 1s 25ms/step - loss: nan - msle: nan - rmsle: nan - val_loss: nan - val_msle: nan - val_rmsle: nan\n",
      "Epoch 46/100\n",
      "42/42 [==============================] - 1s 22ms/step - loss: nan - msle: nan - rmsle: nan - val_loss: nan - val_msle: nan - val_rmsle: nan\n",
      "Epoch 47/100\n",
      "42/42 [==============================] - 1s 19ms/step - loss: nan - msle: nan - rmsle: nan - val_loss: nan - val_msle: nan - val_rmsle: nan\n",
      "Epoch 48/100\n",
      "42/42 [==============================] - 1s 17ms/step - loss: nan - msle: nan - rmsle: nan - val_loss: nan - val_msle: nan - val_rmsle: nan\n",
      "Epoch 49/100\n",
      "42/42 [==============================] - 1s 18ms/step - loss: nan - msle: nan - rmsle: nan - val_loss: nan - val_msle: nan - val_rmsle: nan\n",
      "Epoch 50/100\n",
      "42/42 [==============================] - 1s 21ms/step - loss: nan - msle: nan - rmsle: nan - val_loss: nan - val_msle: nan - val_rmsle: nan\n",
      "Epoch 51/100\n",
      "42/42 [==============================] - 1s 18ms/step - loss: nan - msle: nan - rmsle: nan - val_loss: nan - val_msle: nan - val_rmsle: nan\n",
      "Epoch 52/100\n",
      "42/42 [==============================] - 1s 23ms/step - loss: nan - msle: nan - rmsle: nan - val_loss: nan - val_msle: nan - val_rmsle: nan\n",
      "Epoch 53/100\n",
      "42/42 [==============================] - 1s 28ms/step - loss: nan - msle: nan - rmsle: nan - val_loss: nan - val_msle: nan - val_rmsle: nan\n",
      "Epoch 54/100\n",
      "42/42 [==============================] - 1s 22ms/step - loss: nan - msle: nan - rmsle: nan - val_loss: nan - val_msle: nan - val_rmsle: nan\n",
      "Epoch 55/100\n",
      "42/42 [==============================] - 1s 18ms/step - loss: nan - msle: nan - rmsle: nan - val_loss: nan - val_msle: nan - val_rmsle: nan\n",
      "Epoch 56/100\n",
      "42/42 [==============================] - 1s 22ms/step - loss: nan - msle: nan - rmsle: nan - val_loss: nan - val_msle: nan - val_rmsle: nan\n",
      "Epoch 57/100\n",
      "42/42 [==============================] - 1s 26ms/step - loss: nan - msle: nan - rmsle: nan - val_loss: nan - val_msle: nan - val_rmsle: nan\n",
      "Epoch 58/100\n",
      "42/42 [==============================] - 1s 21ms/step - loss: nan - msle: nan - rmsle: nan - val_loss: nan - val_msle: nan - val_rmsle: nan\n",
      "Epoch 59/100\n",
      "42/42 [==============================] - 1s 19ms/step - loss: nan - msle: nan - rmsle: nan - val_loss: nan - val_msle: nan - val_rmsle: nan\n",
      "Epoch 60/100\n",
      "42/42 [==============================] - 1s 27ms/step - loss: nan - msle: nan - rmsle: nan - val_loss: nan - val_msle: nan - val_rmsle: nan\n",
      "Epoch 61/100\n",
      "42/42 [==============================] - 1s 22ms/step - loss: nan - msle: nan - rmsle: nan - val_loss: nan - val_msle: nan - val_rmsle: nan\n",
      "Epoch 62/100\n",
      "42/42 [==============================] - 1s 22ms/step - loss: nan - msle: nan - rmsle: nan - val_loss: nan - val_msle: nan - val_rmsle: nan\n",
      "Epoch 63/100\n",
      "42/42 [==============================] - 1s 23ms/step - loss: nan - msle: nan - rmsle: nan - val_loss: nan - val_msle: nan - val_rmsle: nan\n",
      "Epoch 64/100\n",
      "42/42 [==============================] - 1s 21ms/step - loss: nan - msle: nan - rmsle: nan - val_loss: nan - val_msle: nan - val_rmsle: nan\n",
      "Epoch 65/100\n",
      "42/42 [==============================] - 1s 26ms/step - loss: nan - msle: nan - rmsle: nan - val_loss: nan - val_msle: nan - val_rmsle: nan\n",
      "Epoch 66/100\n",
      "42/42 [==============================] - 1s 22ms/step - loss: nan - msle: nan - rmsle: nan - val_loss: nan - val_msle: nan - val_rmsle: nan\n",
      "Epoch 67/100\n",
      "42/42 [==============================] - 1s 20ms/step - loss: nan - msle: nan - rmsle: nan - val_loss: nan - val_msle: nan - val_rmsle: nan\n",
      "Epoch 68/100\n",
      "42/42 [==============================] - 1s 29ms/step - loss: nan - msle: nan - rmsle: nan - val_loss: nan - val_msle: nan - val_rmsle: nan\n",
      "Epoch 69/100\n",
      "42/42 [==============================] - 1s 22ms/step - loss: nan - msle: nan - rmsle: nan - val_loss: nan - val_msle: nan - val_rmsle: nan\n",
      "Epoch 70/100\n",
      "42/42 [==============================] - 1s 18ms/step - loss: nan - msle: nan - rmsle: nan - val_loss: nan - val_msle: nan - val_rmsle: nan\n",
      "Epoch 71/100\n",
      "42/42 [==============================] - 1s 25ms/step - loss: nan - msle: nan - rmsle: nan - val_loss: nan - val_msle: nan - val_rmsle: nan\n",
      "Epoch 72/100\n",
      "42/42 [==============================] - 1s 20ms/step - loss: nan - msle: nan - rmsle: nan - val_loss: nan - val_msle: nan - val_rmsle: nan\n",
      "Epoch 73/100\n",
      "42/42 [==============================] - 1s 19ms/step - loss: nan - msle: nan - rmsle: nan - val_loss: nan - val_msle: nan - val_rmsle: nan\n",
      "Epoch 74/100\n",
      "42/42 [==============================] - 1s 18ms/step - loss: nan - msle: nan - rmsle: nan - val_loss: nan - val_msle: nan - val_rmsle: nan\n",
      "Epoch 75/100\n",
      "42/42 [==============================] - 1s 19ms/step - loss: nan - msle: nan - rmsle: nan - val_loss: nan - val_msle: nan - val_rmsle: nan\n",
      "Epoch 76/100\n",
      "42/42 [==============================] - 1s 22ms/step - loss: nan - msle: nan - rmsle: nan - val_loss: nan - val_msle: nan - val_rmsle: nan\n",
      "Epoch 77/100\n",
      "42/42 [==============================] - 1s 22ms/step - loss: nan - msle: nan - rmsle: nan - val_loss: nan - val_msle: nan - val_rmsle: nan\n",
      "Epoch 78/100\n",
      "42/42 [==============================] - 1s 31ms/step - loss: nan - msle: nan - rmsle: nan - val_loss: nan - val_msle: nan - val_rmsle: nan\n",
      "Epoch 79/100\n",
      "42/42 [==============================] - 1s 25ms/step - loss: nan - msle: nan - rmsle: nan - val_loss: nan - val_msle: nan - val_rmsle: nan\n",
      "Epoch 80/100\n",
      "42/42 [==============================] - 1s 22ms/step - loss: nan - msle: nan - rmsle: nan - val_loss: nan - val_msle: nan - val_rmsle: nan\n",
      "Epoch 81/100\n",
      "42/42 [==============================] - 1s 29ms/step - loss: nan - msle: nan - rmsle: nan - val_loss: nan - val_msle: nan - val_rmsle: nan\n",
      "Epoch 82/100\n",
      "42/42 [==============================] - 1s 20ms/step - loss: nan - msle: nan - rmsle: nan - val_loss: nan - val_msle: nan - val_rmsle: nan\n",
      "Epoch 83/100\n",
      "42/42 [==============================] - 1s 20ms/step - loss: nan - msle: nan - rmsle: nan - val_loss: nan - val_msle: nan - val_rmsle: nan\n",
      "Epoch 84/100\n",
      "42/42 [==============================] - 1s 21ms/step - loss: nan - msle: nan - rmsle: nan - val_loss: nan - val_msle: nan - val_rmsle: nan\n",
      "Epoch 85/100\n",
      "42/42 [==============================] - 1s 22ms/step - loss: nan - msle: nan - rmsle: nan - val_loss: nan - val_msle: nan - val_rmsle: nan\n",
      "Epoch 86/100\n",
      "42/42 [==============================] - 1s 23ms/step - loss: nan - msle: nan - rmsle: nan - val_loss: nan - val_msle: nan - val_rmsle: nan\n",
      "Epoch 87/100\n",
      "42/42 [==============================] - 1s 20ms/step - loss: nan - msle: nan - rmsle: nan - val_loss: nan - val_msle: nan - val_rmsle: nan\n",
      "Epoch 88/100\n",
      "42/42 [==============================] - 1s 28ms/step - loss: nan - msle: nan - rmsle: nan - val_loss: nan - val_msle: nan - val_rmsle: nan\n",
      "Epoch 89/100\n",
      "42/42 [==============================] - 1s 20ms/step - loss: nan - msle: nan - rmsle: nan - val_loss: nan - val_msle: nan - val_rmsle: nan\n",
      "Epoch 90/100\n",
      "42/42 [==============================] - 1s 17ms/step - loss: nan - msle: nan - rmsle: nan - val_loss: nan - val_msle: nan - val_rmsle: nan\n",
      "Epoch 91/100\n",
      "42/42 [==============================] - 1s 21ms/step - loss: nan - msle: nan - rmsle: nan - val_loss: nan - val_msle: nan - val_rmsle: nan\n",
      "Epoch 92/100\n",
      "42/42 [==============================] - 1s 20ms/step - loss: nan - msle: nan - rmsle: nan - val_loss: nan - val_msle: nan - val_rmsle: nan\n",
      "Epoch 93/100\n",
      "42/42 [==============================] - 1s 27ms/step - loss: nan - msle: nan - rmsle: nan - val_loss: nan - val_msle: nan - val_rmsle: nan\n",
      "Epoch 94/100\n",
      "42/42 [==============================] - 1s 20ms/step - loss: nan - msle: nan - rmsle: nan - val_loss: nan - val_msle: nan - val_rmsle: nan\n",
      "Epoch 95/100\n",
      "42/42 [==============================] - 1s 19ms/step - loss: nan - msle: nan - rmsle: nan - val_loss: nan - val_msle: nan - val_rmsle: nan\n",
      "Epoch 96/100\n",
      "42/42 [==============================] - 1s 22ms/step - loss: nan - msle: nan - rmsle: nan - val_loss: nan - val_msle: nan - val_rmsle: nan\n",
      "Epoch 97/100\n",
      "42/42 [==============================] - 1s 23ms/step - loss: nan - msle: nan - rmsle: nan - val_loss: nan - val_msle: nan - val_rmsle: nan\n",
      "Epoch 98/100\n",
      "42/42 [==============================] - 1s 24ms/step - loss: nan - msle: nan - rmsle: nan - val_loss: nan - val_msle: nan - val_rmsle: nan\n",
      "Epoch 99/100\n",
      "42/42 [==============================] - 1s 23ms/step - loss: nan - msle: nan - rmsle: nan - val_loss: nan - val_msle: nan - val_rmsle: nan\n",
      "Epoch 100/100\n",
      "42/42 [==============================] - 1s 18ms/step - loss: nan - msle: nan - rmsle: nan - val_loss: nan - val_msle: nan - val_rmsle: nan\n"
     ]
    }
   ],
   "source": [
    "# call our method to fit the model\n",
    "simple_ffn = simple_ffn(x_train, y_train_log, (x_val, y_val_log))"
   ],
   "metadata": {
    "collapsed": false,
    "pycharm": {
     "name": "#%%\n"
    }
   }
  },
  {
   "cell_type": "markdown",
   "source": [
    "### 3. Modelling with optuna\n",
    "Optuna tries to find optimal values by training surrogate models, and searching for good parameters. This means we don’t have to train the entire model, but only a small version of it. It also tries to optimize its search by “following” good leads and dropping/pruning bad ones."
   ],
   "metadata": {
    "collapsed": false
   }
  },
  {
   "cell_type": "code",
   "execution_count": 8,
   "outputs": [],
   "source": [
    "sampler = optuna.samplers.TPESampler(seed=10)  # Make the sampler behave in a deterministic way.\n",
    "study = optuna.create_study(study_name=\"stock_tpe_optuna\", direction=\"minimize\", sampler=sampler,\n",
    "                            # pruner=optuna.pruners.NopPruner() # add the NopPruner to disable pruning\n",
    "                            )"
   ],
   "metadata": {
    "collapsed": false,
    "pycharm": {
     "name": "#%%\n"
    }
   }
  },
  {
   "cell_type": "code",
   "execution_count": 9,
   "outputs": [],
   "source": [
    "def optuna_tpe(trial):\n",
    "    n_layers = trial.suggest_int(\"n_layers\", 1, 10)\n",
    "    # create input and regularization layers\n",
    "    input_layer = keras.layers.Input(len(x_train.columns))\n",
    "    reg_layer = keras.layers.Normalization()\n",
    "    reg_layer.adapt(x_train)\n",
    "    model_list = [input_layer]\n",
    "    # generate deep layers\n",
    "    for i in range(n_layers):\n",
    "        model_list.append(keras.layers.Dense(\n",
    "            units=trial.suggest_int(f\"layer_{i}\", 16, 1024),\n",
    "            activation=trial.suggest_categorical(f\"activation_{i}\", [\"relu\", \"tanh\", \"linear\"]),\n",
    "        ))\n",
    "        model_list.append(keras.layers.Dropout(trial.suggest_float(f\"dropout_l{i}\", 0, 0.5)))\n",
    "    # add output layer without activation function to get a regression value\n",
    "    model_list.append(keras.layers.Dense(1))\n",
    "    model = keras.Sequential(model_list)\n",
    "    optimizer = create_optimizer(trial)\n",
    "    model.compile(\n",
    "        loss=\"mse\",\n",
    "        optimizer=optimizer,\n",
    "        metrics=metrics,\n",
    "    )\n",
    "    # define logs_dir for the best models and check that it exists\n",
    "    logs_dir = get_log_dir() / f'{trial.number}--{datetime.datetime.now().strftime(\"%d-%m-%H-%M\")}'\n",
    "    logs_dir.mkdir(parents=True, exist_ok=True)\n",
    "    callbacks = [\n",
    "        ModelCheckpoint(filepath=(logs_dir / \"best.hdf5\").as_posix(), verbose=False),\n",
    "        TFKerasPruningCallback(trial, f\"val_{metrics[0]}\")]\n",
    "    # train the model\n",
    "    model.fit(\n",
    "        x_train,\n",
    "        y_train_log,\n",
    "        validation_data=(x_val, y_val_log),\n",
    "        epochs=trial.suggest_int(\"epochs\", 1, 500),\n",
    "        batch_size=trial.suggest_int(\"batch_size\", 16, 500),\n",
    "        callbacks=callbacks,\n",
    "        verbose=False\n",
    "    )\n",
    "    # evaluate on validation set and return just the mse. since our loss function is also MSE we can just return that\n",
    "    model_eval = model.evaluate(x_val, y_val)\n",
    "    return model_eval[0]\n",
    "\n",
    "\n",
    "def create_optimizer(trial):\n",
    "    # We optimize the choice of optimizers as well as their parameters.\n",
    "    optimizer_name = trial.suggest_categorical(\"optimizer\", [\"Adam\", \"RMSprop\"])\n",
    "    # optimizer_name = trial.suggest_categorical(\"optimizer\", [\"Adam\", \"RMSprop\", \"SGD\"])\n",
    "    if optimizer_name == \"Adam\":\n",
    "        adam_lr = trial.suggest_float(\"adam_lr\", 1e-5, 1e-1, log=True)\n",
    "        return keras.optimizers.Adam(learning_rate=adam_lr)\n",
    "    elif optimizer_name == \"RMSprop\":\n",
    "        rms_lr = trial.suggest_float(\"rmsprop_lr\", 1e-5, 1e-1, log=True)\n",
    "        rms_decay = trial.suggest_float(\"rmsprop_decay\", 0.85, 0.99)\n",
    "        rms_momentum = trial.suggest_float(\"rmsprop_momentum\", 1e-5, 1e-1, log=True)\n",
    "        return keras.optimizers.RMSprop(learning_rate=rms_lr, momentum=rms_momentum, decay=rms_decay)\n",
    "    else:\n",
    "        sgd_lr = trial.suggest_float(\"sgd_lr\", 1e-5, 1e-1, log=True)\n",
    "        sgd_momentum = trial.suggest_float(\"sgd_momentum\", 1e-5, 1e-1, log=True)\n",
    "        return keras.optimizers.SGD(learning_rate=sgd_lr, momentum=sgd_momentum)"
   ],
   "metadata": {
    "collapsed": false,
    "pycharm": {
     "name": "#%%\n"
    }
   }
  },
  {
   "cell_type": "code",
   "execution_count": null,
   "outputs": [
    {
     "name": "stdout",
     "output_type": "stream",
     "text": [
      "5/5 [==============================] - 0s 18ms/step - loss: 36094386176.0000 - msle: 100.5519 - rmsle: 10.0271\n",
      "5/5 [==============================] - 0s 5ms/step - loss: 36210814976.0000 - msle: 139.0703 - rmsle: nan\n",
      "5/5 [==============================] - 0s 5ms/step - loss: 36094500864.0000 - msle: 101.5160 - rmsle: 10.0747\n",
      "5/5 [==============================] - 0s 4ms/step - loss: 36092342272.0000 - msle: 89.1788 - rmsle: 9.4433\n",
      "5/5 [==============================] - 0s 8ms/step - loss: 36093755392.0000 - msle: 96.2185 - rmsle: 9.8088\n",
      "5/5 [==============================] - 0s 8ms/step - loss: 36092817408.0000 - msle: 91.1422 - rmsle: 9.5464\n",
      "5/5 [==============================] - 0s 4ms/step - loss: 36092350464.0000 - msle: 89.0738 - rmsle: 9.4375\n",
      "5/5 [==============================] - 0s 6ms/step - loss: 36092309504.0000 - msle: 88.9393 - rmsle: 9.4303\n",
      "5/5 [==============================] - 0s 4ms/step - loss: 36092346368.0000 - msle: 89.0746 - rmsle: 9.4375\n",
      "5/5 [==============================] - 0s 4ms/step - loss: 36092456960.0000 - msle: 89.6994 - rmsle: 9.4710\n",
      "5/5 [==============================] - 0s 4ms/step - loss: 36092125184.0000 - msle: 88.1759 - rmsle: 9.3897\n",
      "5/5 [==============================] - 0s 4ms/step - loss: 36092235776.0000 - msle: 88.6275 - rmsle: 9.4135\n",
      "WARNING:tensorflow:5 out of the last 181 calls to <function Model.make_test_function.<locals>.test_function at 0x000001EE6A9B8310> triggered tf.function retracing. Tracing is expensive and the excessive number of tracings could be due to (1) creating @tf.function repeatedly in a loop, (2) passing tensors with different shapes, (3) passing Python objects instead of tensors. For (1), please define your @tf.function outside of the loop. For (2), @tf.function has experimental_relax_shapes=True option that relaxes argument shapes that can avoid unnecessary retracing. For (3), please refer to https://www.tensorflow.org/guide/function#controlling_retracing and https://www.tensorflow.org/api_docs/python/tf/function for  more details.\n",
      "WARNING:tensorflow:6 out of the last 184 calls to <function Model.make_test_function.<locals>.test_function at 0x000001EE749ED160> triggered tf.function retracing. Tracing is expensive and the excessive number of tracings could be due to (1) creating @tf.function repeatedly in a loop, (2) passing tensors with different shapes, (3) passing Python objects instead of tensors. For (1), please define your @tf.function outside of the loop. For (2), @tf.function has experimental_relax_shapes=True option that relaxes argument shapes that can avoid unnecessary retracing. For (3), please refer to https://www.tensorflow.org/guide/function#controlling_retracing and https://www.tensorflow.org/api_docs/python/tf/function for  more details.\n",
      "5/5 [==============================] - 0s 4ms/step - loss: 36092448768.0000 - msle: 89.5086 - rmsle: 9.4604\n",
      "5/5 [==============================] - 0s 4ms/step - loss: 36092338176.0000 - msle: 89.0368 - rmsle: 9.4355\n",
      "5/5 [==============================] - 0s 4ms/step - loss: 36092342272.0000 - msle: 89.0674 - rmsle: 9.4371\n",
      "5/5 [==============================] - 0s 6ms/step - loss: 36092452864.0000 - msle: 89.5284 - rmsle: 9.4615\n",
      "5/5 [==============================] - 0s 4ms/step - loss: 36092346368.0000 - msle: 89.0813 - rmsle: 9.4378\n",
      "5/5 [==============================] - 0s 5ms/step - loss: 36092325888.0000 - msle: 89.0953 - rmsle: 9.4388\n",
      "5/5 [==============================] - 0s 4ms/step - loss: 36092334080.0000 - msle: 89.0556 - rmsle: 9.4369\n",
      "5/5 [==============================] - 0s 2ms/step - loss: 36092346368.0000 - msle: 89.1360 - rmsle: 9.4410\n",
      "5/5 [==============================] - 0s 4ms/step - loss: 36092375040.0000 - msle: 89.2312 - rmsle: 9.4463\n",
      "5/5 [==============================] - 0s 0s/step - loss: 36092338176.0000 - msle: 89.0699 - rmsle: 9.4376\n",
      "5/5 [==============================] - 0s 0s/step - loss: 36092358656.0000 - msle: 89.1939 - rmsle: 9.4443\n"
     ]
    }
   ],
   "source": [
    "start = datetime.datetime.now()\n",
    "study.optimize(optuna_tpe,\n",
    "               n_trials=100,  # run 100 trials\n",
    "               # timeout=1800 # run for 30 minutes\n",
    "               )\n",
    "end = datetime.datetime.now()"
   ],
   "metadata": {
    "collapsed": false,
    "pycharm": {
     "name": "#%%\n",
     "is_executing": true
    }
   }
  },
  {
   "cell_type": "markdown",
   "source": [
    "First we can look at how our trials improved over time."
   ],
   "metadata": {
    "collapsed": false
   }
  },
  {
   "cell_type": "code",
   "execution_count": null,
   "outputs": [],
   "source": [
    "plot_optimization_history(study)"
   ],
   "metadata": {
    "collapsed": false,
    "pycharm": {
     "name": "#%%\n",
     "is_executing": true
    }
   }
  },
  {
   "cell_type": "markdown",
   "source": [
    "We can also look at which features had the most impact and what the algorithm preferred when training"
   ],
   "metadata": {
    "collapsed": false
   }
  },
  {
   "cell_type": "code",
   "execution_count": null,
   "outputs": [],
   "source": [
    "plot_param_importances(study)"
   ],
   "metadata": {
    "collapsed": false,
    "pycharm": {
     "name": "#%%\n",
     "is_executing": true
    }
   }
  },
  {
   "cell_type": "markdown",
   "source": [
    "We see that it trended towards layers of size 300, and preferred 7+ layers. RELU was also much more used than the other activation functions."
   ],
   "metadata": {
    "collapsed": false
   }
  },
  {
   "cell_type": "code",
   "execution_count": null,
   "outputs": [],
   "source": [
    "plot_slice(study, [\"layer_0\", \"layer_1\", \"layer_2\", \"n_layers\", \"epochs\", \"activation_1\"])"
   ],
   "metadata": {
    "collapsed": false,
    "pycharm": {
     "name": "#%%\n",
     "is_executing": true
    }
   }
  },
  {
   "cell_type": "markdown",
   "source": [
    "We can view the best trial with `study.best_trial` and `study.best_params`. To load the trial, we have to access our logs and load the network with these parameters."
   ],
   "metadata": {
    "collapsed": false
   }
  },
  {
   "cell_type": "code",
   "execution_count": null,
   "outputs": [],
   "source": [
    "print(study.best_value)\n",
    "study.best_params"
   ],
   "metadata": {
    "collapsed": false,
    "pycharm": {
     "name": "#%%\n",
     "is_executing": true
    }
   }
  },
  {
   "cell_type": "code",
   "execution_count": null,
   "outputs": [],
   "source": [
    "best_model = keras.models.load_model(\n",
    "    get_log_dir() / f'{study.best_trial.number}--{study.best_trial.datetime_start.strftime(\"%d-%m-%H-%M\")}' / \"best.hdf5\",\n",
    "    custom_objects={\"rmsle\": rmsle})"
   ],
   "metadata": {
    "collapsed": false,
    "pycharm": {
     "name": "#%%\n",
     "is_executing": true
    }
   }
  },
  {
   "cell_type": "markdown",
   "source": [
    "To predict a single value in our pandas dataframe, we have to convert it to an (1,-1) ndarray first"
   ],
   "metadata": {
    "collapsed": false
   }
  },
  {
   "cell_type": "code",
   "execution_count": null,
   "outputs": [],
   "source": [
    "best_model.predict(x_test.iloc[1].to_numpy().reshape(1, -1))"
   ],
   "metadata": {
    "collapsed": false,
    "pycharm": {
     "name": "#%%\n",
     "is_executing": true
    }
   }
  },
  {
   "cell_type": "markdown",
   "source": [
    "We'll use our utility function `create_submission` to create the csv that we want to upload"
   ],
   "metadata": {
    "collapsed": false
   }
  },
  {
   "cell_type": "code",
   "execution_count": null,
   "outputs": [],
   "source": [
    "create_submission(best_model, \"test\")"
   ],
   "metadata": {
    "collapsed": false,
    "pycharm": {
     "name": "#%%\n",
     "is_executing": true
    }
   }
  }
 ],
 "metadata": {
  "kernelspec": {
   "display_name": "Python 3",
   "language": "python",
   "name": "python3"
  },
  "language_info": {
   "codemirror_mode": {
    "name": "ipython",
    "version": 2
   },
   "file_extension": ".py",
   "mimetype": "text/x-python",
   "name": "python",
   "nbconvert_exporter": "python",
   "pygments_lexer": "ipython2",
   "version": "2.7.6"
  }
 },
 "nbformat": 4,
 "nbformat_minor": 0
}